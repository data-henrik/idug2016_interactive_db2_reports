{
 "cells": [
  {
   "cell_type": "markdown",
   "metadata": {
    "slideshow": {
     "slide_type": "skip"
    }
   },
   "source": [
    "#### Notebook for IDUG EMEA, Brussels, 15.11.2016"
   ]
  },
  {
   "cell_type": "code",
   "execution_count": 1,
   "metadata": {
    "collapsed": false,
    "slideshow": {
     "slide_type": "skip"
    }
   },
   "outputs": [
    {
     "data": {
      "text/plain": [
       "{u'slidenumber': 'true',\n",
       " u'start_slideshow_at': 'selected',\n",
       " u'transition': u'none'}"
      ]
     },
     "execution_count": 1,
     "metadata": {},
     "output_type": "execute_result"
    }
   ],
   "source": [
    "### Some setup\n",
    "from notebook.services.config import ConfigManager\n",
    "cm = ConfigManager()\n",
    "cm.update('livereveal', {\n",
    "              'start_slideshow_at': 'selected',\n",
    "              'slidenumber' : 'true',        \n",
    "        'background-image': None\n",
    "})"
   ]
  },
  {
   "cell_type": "code",
   "execution_count": 2,
   "metadata": {
    "collapsed": false,
    "slideshow": {
     "slide_type": "skip"
    }
   },
   "outputs": [],
   "source": [
    "#cm.update('livereveal', {'width': 1024,'height': 768})"
   ]
  },
  {
   "cell_type": "code",
   "execution_count": 3,
   "metadata": {
    "collapsed": true,
    "slideshow": {
     "slide_type": "skip"
    }
   },
   "outputs": [],
   "source": [
    "filename = \"myvariable.py\""
   ]
  },
  {
   "cell_type": "code",
   "execution_count": 4,
   "metadata": {
    "collapsed": true,
    "slideshow": {
     "slide_type": "skip"
    }
   },
   "outputs": [],
   "source": [
    "%run $filename"
   ]
  },
  {
   "cell_type": "code",
   "execution_count": 5,
   "metadata": {
    "collapsed": true,
    "slideshow": {
     "slide_type": "skip"
    }
   },
   "outputs": [],
   "source": [
    "%matplotlib inline"
   ]
  },
  {
   "cell_type": "code",
   "execution_count": 6,
   "metadata": {
    "collapsed": true,
    "slideshow": {
     "slide_type": "skip"
    }
   },
   "outputs": [],
   "source": [
    "#Import stuff we need\n",
    "import matplotlib.pyplot as plt\n",
    "import matplotlib.dates as mdates\n",
    "import datetime as dt\n",
    "import numpy as np\n",
    "import pandas as pd"
   ]
  },
  {
   "cell_type": "markdown",
   "metadata": {
    "slideshow": {
     "slide_type": "slide"
    }
   },
   "source": [
    "# Interactive Reports and Presentations \n",
    "### - Powered by DB2 and Jupyter Notebooks -\n",
    "<br>\n",
    "#### Session E08\n",
    "***\n",
    "\n",
    "## Dr. Henrik Loeser, 15.11.2016\n",
    "\n",
    "Offering Manager & Developer Advocate<br>\n",
    "Focus: Data & Analytics, Data Security, Privacy & Compliance\n",
    "\n",
    "\n",
    "* Email: hloeser@de.ibm.com\n",
    "* Twitter: @data_henrik\n",
    "* Blog: http://blog.4loeser.net\n",
    "* LinkedIn: http://de.linkedin.com/in/henrikloeser\n",
    "* GitHub: https://github.com/data-henrik\n",
    "\n",
    "\n"
   ]
  },
  {
   "cell_type": "markdown",
   "metadata": {
    "slideshow": {
     "slide_type": "slide"
    }
   },
   "source": [
    "# Agenda\n",
    "***\n",
    "* Notebooks\n",
    "* DB2 and dashDB\n",
    "* Having fun with interactive stuff\n",
    "\n",
    "\n"
   ]
  },
  {
   "cell_type": "markdown",
   "metadata": {
    "slideshow": {
     "slide_type": "slide"
    }
   },
   "source": [
    "# Agenda (revised)\n",
    "***\n",
    "* Notebooks and Other Stuff\n",
    "* DB2 and dashDB + APIs\n",
    "* Fun, frustration, fear, friskiness, and fun again   \n",
    "  (and some other f-words :)\n",
    "\n",
    "\n"
   ]
  },
  {
   "cell_type": "markdown",
   "metadata": {
    "slideshow": {
     "slide_type": "slide"
    }
   },
   "source": [
    "# Notebooks and Other Stuff\n",
    "***\n",
    "#### Definition \"Notebook\":\n",
    "[Wikipedia](https://en.wikipedia.org/wiki/Notebook):  \n",
    "A **notebook** (notepad, writing pad, drawing pad, legal pad, lily pad) is a small book or binder of paper pages, often ruled, used for purposes such as recording notes or memoranda, writing, spells, lists, drawing, or scrapbooking.\n",
    "\n"
   ]
  },
  {
   "cell_type": "markdown",
   "metadata": {
    "slideshow": {
     "slide_type": "slide"
    }
   },
   "source": [
    "# Notebooks and Other Stuff\n",
    "***\n",
    "**Definition for this talk:**  \n",
    "A notebook is a \"web-based interactive computational environment\".  \n",
    "\n",
    "Some Notebooks: \n",
    "* IPython / Jupyter Notebook\n",
    "* Apache Zeppelin Notebook\n"
   ]
  },
  {
   "cell_type": "markdown",
   "metadata": {
    "slideshow": {
     "slide_type": "slide"
    }
   },
   "source": [
    "# Notebooks - Parts\n",
    "***\n",
    "* Kernel,e.g. Python, Scala and others\n",
    "* Cells\n",
    "* Cell Types  \n",
    "* Many extensions\n"
   ]
  },
  {
   "cell_type": "markdown",
   "metadata": {
    "slideshow": {
     "slide_type": "slide"
    }
   },
   "source": [
    "# Notebook Cells\n",
    "***\n",
    "* Markdown-formatted Text (like this cell)\n",
    "* Code cells\n",
    "* Raw cells\n",
    "* Headings\n"
   ]
  },
  {
   "cell_type": "markdown",
   "metadata": {
    "slideshow": {
     "slide_type": "slide"
    }
   },
   "source": [
    "# Notebook \"Magics\"\n",
    "***\n",
    "* Line Magic  \n",
    "  - Applies to the line\n",
    "* Cell Magic\n",
    "  - Applies to the entire cell, starting from next line\n"
   ]
  },
  {
   "cell_type": "code",
   "execution_count": 34,
   "metadata": {
    "collapsed": false,
    "scrolled": true,
    "slideshow": {
     "slide_type": "slide"
    }
   },
   "outputs": [
    {
     "data": {
      "application/json": {
       "cell": {
        "!": "OSMagics",
        "HTML": "Other",
        "SVG": "Other",
        "bash": "Other",
        "capture": "ExecutionMagics",
        "debug": "ExecutionMagics",
        "file": "Other",
        "html": "DisplayMagics",
        "javascript": "DisplayMagics",
        "js": "DisplayMagics",
        "latex": "DisplayMagics",
        "perl": "Other",
        "prun": "ExecutionMagics",
        "pypy": "Other",
        "python": "Other",
        "python2": "Other",
        "python3": "Other",
        "ruby": "Other",
        "script": "ScriptMagics",
        "sh": "Other",
        "sql": "SqlMagic",
        "svg": "DisplayMagics",
        "sx": "OSMagics",
        "system": "OSMagics",
        "time": "ExecutionMagics",
        "timeit": "ExecutionMagics",
        "writefile": "OSMagics"
       },
       "line": {
        "alias": "OSMagics",
        "alias_magic": "BasicMagics",
        "autocall": "AutoMagics",
        "automagic": "AutoMagics",
        "autosave": "KernelMagics",
        "bookmark": "OSMagics",
        "cat": "Other",
        "cd": "OSMagics",
        "clear": "KernelMagics",
        "colors": "BasicMagics",
        "config": "ConfigMagics",
        "connect_info": "KernelMagics",
        "cp": "Other",
        "debug": "ExecutionMagics",
        "dhist": "OSMagics",
        "dirs": "OSMagics",
        "doctest_mode": "BasicMagics",
        "ed": "Other",
        "edit": "KernelMagics",
        "env": "OSMagics",
        "gui": "BasicMagics",
        "hist": "Other",
        "history": "HistoryMagics",
        "killbgscripts": "ScriptMagics",
        "ldir": "Other",
        "less": "KernelMagics",
        "lf": "Other",
        "lk": "Other",
        "ll": "Other",
        "load": "CodeMagics",
        "load_ext": "ExtensionMagics",
        "loadpy": "CodeMagics",
        "logoff": "LoggingMagics",
        "logon": "LoggingMagics",
        "logstart": "LoggingMagics",
        "logstate": "LoggingMagics",
        "logstop": "LoggingMagics",
        "ls": "Other",
        "lsmagic": "BasicMagics",
        "lx": "Other",
        "macro": "ExecutionMagics",
        "magic": "BasicMagics",
        "man": "KernelMagics",
        "matplotlib": "PylabMagics",
        "mkdir": "Other",
        "more": "KernelMagics",
        "mv": "Other",
        "notebook": "BasicMagics",
        "page": "BasicMagics",
        "pastebin": "CodeMagics",
        "pdb": "ExecutionMagics",
        "pdef": "NamespaceMagics",
        "pdoc": "NamespaceMagics",
        "pfile": "NamespaceMagics",
        "pinfo": "NamespaceMagics",
        "pinfo2": "NamespaceMagics",
        "popd": "OSMagics",
        "pprint": "BasicMagics",
        "precision": "BasicMagics",
        "profile": "BasicMagics",
        "prun": "ExecutionMagics",
        "psearch": "NamespaceMagics",
        "psource": "NamespaceMagics",
        "pushd": "OSMagics",
        "pwd": "OSMagics",
        "pycat": "OSMagics",
        "pylab": "PylabMagics",
        "qtconsole": "KernelMagics",
        "quickref": "BasicMagics",
        "recall": "HistoryMagics",
        "rehashx": "OSMagics",
        "reload_ext": "ExtensionMagics",
        "rep": "Other",
        "rerun": "HistoryMagics",
        "reset": "NamespaceMagics",
        "reset_selective": "NamespaceMagics",
        "rm": "Other",
        "rmdir": "Other",
        "run": "ExecutionMagics",
        "save": "CodeMagics",
        "sc": "OSMagics",
        "set_env": "OSMagics",
        "sql": "SqlMagic",
        "store": "StoreMagics",
        "sx": "OSMagics",
        "system": "OSMagics",
        "tb": "ExecutionMagics",
        "time": "ExecutionMagics",
        "timeit": "ExecutionMagics",
        "unalias": "OSMagics",
        "unload_ext": "ExtensionMagics",
        "who": "NamespaceMagics",
        "who_ls": "NamespaceMagics",
        "whos": "NamespaceMagics",
        "xdel": "NamespaceMagics",
        "xmode": "BasicMagics"
       }
      },
      "text/plain": [
       "Available line magics:\n",
       "%alias  %alias_magic  %autocall  %automagic  %autosave  %bookmark  %cat  %cd  %clear  %colors  %config  %connect_info  %cp  %debug  %dhist  %dirs  %doctest_mode  %ed  %edit  %env  %gui  %hist  %history  %killbgscripts  %ldir  %less  %lf  %lk  %ll  %load  %load_ext  %loadpy  %logoff  %logon  %logstart  %logstate  %logstop  %ls  %lsmagic  %lx  %macro  %magic  %man  %matplotlib  %mkdir  %more  %mv  %notebook  %page  %pastebin  %pdb  %pdef  %pdoc  %pfile  %pinfo  %pinfo2  %popd  %pprint  %precision  %profile  %prun  %psearch  %psource  %pushd  %pwd  %pycat  %pylab  %qtconsole  %quickref  %recall  %rehashx  %reload_ext  %rep  %rerun  %reset  %reset_selective  %rm  %rmdir  %run  %save  %sc  %set_env  %sql  %store  %sx  %system  %tb  %time  %timeit  %unalias  %unload_ext  %who  %who_ls  %whos  %xdel  %xmode\n",
       "\n",
       "Available cell magics:\n",
       "%%!  %%HTML  %%SVG  %%bash  %%capture  %%debug  %%file  %%html  %%javascript  %%js  %%latex  %%perl  %%prun  %%pypy  %%python  %%python2  %%python3  %%ruby  %%script  %%sh  %%sql  %%svg  %%sx  %%system  %%time  %%timeit  %%writefile\n",
       "\n",
       "Automagic is ON, % prefix IS NOT needed for line magics."
      ]
     },
     "execution_count": 34,
     "metadata": {},
     "output_type": "execute_result"
    }
   ],
   "source": [
    "%lsmagic"
   ]
  },
  {
   "cell_type": "code",
   "execution_count": 7,
   "metadata": {
    "collapsed": false,
    "slideshow": {
     "slide_type": "slide"
    }
   },
   "outputs": [
    {
     "name": "stdout",
     "output_type": "stream",
     "text": [
      " 09:40:36 up 18 days, 15:42,  4 users,  load average: 0,85, 0,44, 0,44\n"
     ]
    }
   ],
   "source": [
    "%%sh\n",
    "uptime"
   ]
  },
  {
   "cell_type": "markdown",
   "metadata": {
    "slideshow": {
     "slide_type": "slide"
    }
   },
   "source": [
    "# A Notebook Extension: RISE\n",
    "***\n",
    "* Notebooks and IPython/Jupyter can be extended\n",
    "* Example: **RISE**\n",
    "  - reveal.js for Notebooks\n",
    "  - RISE = **R**eveal.js Jupyter/**I**Python **S**lideshow **E**xtension\n",
    "  - Browser-based Presentations (\"Powerpoint\")\n",
    "  - Cell can be turned into \"Slide\", \"Subslide\" or \"Fragment\"\n"
   ]
  },
  {
   "cell_type": "markdown",
   "metadata": {
    "slideshow": {
     "slide_type": "fragment"
    }
   },
   "source": [
    "  - this is a fragment\n",
    "   "
   ]
  },
  {
   "cell_type": "markdown",
   "metadata": {
    "slideshow": {
     "slide_type": "slide"
    }
   },
   "source": [
    "# DB2 and dashDB + APIs\n",
    "***\n",
    "* Probably known here: DB2 and dashDB\n",
    "* Interfaces to DB2/dashDB (with Python kernel):\n",
    "  - ibm_db: IBM DB2 Bibliothek der Python DB API\n",
    "  - SQL Magic in Notebook\n",
    "  - ibmdbpy: IBM project to push down Python data transformations into DB2/dashDB\n"
   ]
  },
  {
   "cell_type": "markdown",
   "metadata": {
    "slideshow": {
     "slide_type": "slide"
    }
   },
   "source": [
    "# And now...\n",
    "***\n",
    "* Fun\n",
    "* Frustration\n",
    "* and more...\n",
    "\n",
    "**Spoiler**: We are going to end on a happy note!\n"
   ]
  },
  {
   "cell_type": "markdown",
   "metadata": {
    "slideshow": {
     "slide_type": "slide"
    }
   },
   "source": [
    "# The Weather Outside"
   ]
  },
  {
   "cell_type": "code",
   "execution_count": 8,
   "metadata": {
    "collapsed": false,
    "slideshow": {
     "slide_type": "subslide"
    }
   },
   "outputs": [
    {
     "name": "stdout",
     "output_type": "stream",
     "text": [
      "Weather in Brussels, BE\n",
      "{'temp_max': 10.0, 'temp_kf': None, 'temp': 7.99, 'temp_min': 7.0}\n",
      "mist\n",
      "\n",
      "Forecast for Brussels, BE\n",
      "('2016-11-15 09:00:00+00', u'light rain', 9.6)\n",
      "('2016-11-15 12:00:00+00', u'light rain', 11.27)\n",
      "('2016-11-15 15:00:00+00', u'light rain', 11.93)\n",
      "('2016-11-15 18:00:00+00', u'light rain', 11.68)\n",
      "('2016-11-15 21:00:00+00', u'light rain', 11.85)\n",
      "('2016-11-16 00:00:00+00', u'light rain', 11.92)\n",
      "('2016-11-16 03:00:00+00', u'light rain', 11.85)\n",
      "('2016-11-16 06:00:00+00', u'light rain', 11.59)\n",
      "('2016-11-16 09:00:00+00', u'light rain', 12.5)\n",
      "('2016-11-16 12:00:00+00', u'light rain', 13.2)\n",
      "('2016-11-16 15:00:00+00', u'light rain', 12.97)\n",
      "('2016-11-16 18:00:00+00', u'light rain', 11.2)\n",
      "('2016-11-16 21:00:00+00', u'light rain', 10.79)\n",
      "('2016-11-17 00:00:00+00', u'moderate rain', 10.66)\n",
      "('2016-11-17 03:00:00+00', u'moderate rain', 9.62)\n",
      "('2016-11-17 06:00:00+00', u'light rain', 7.51)\n",
      "('2016-11-17 09:00:00+00', u'moderate rain', 9.17)\n",
      "('2016-11-17 12:00:00+00', u'light rain', 11.17)\n",
      "('2016-11-17 15:00:00+00', u'moderate rain', 10.08)\n",
      "('2016-11-17 18:00:00+00', u'light rain', 9.28)\n",
      "('2016-11-17 21:00:00+00', u'light rain', 8.34)\n",
      "('2016-11-18 00:00:00+00', u'light rain', 8.62)\n",
      "('2016-11-18 03:00:00+00', u'light rain', 7.22)\n",
      "('2016-11-18 06:00:00+00', u'light rain', 6.03)\n",
      "('2016-11-18 09:00:00+00', u'light rain', 6.3)\n",
      "('2016-11-18 12:00:00+00', u'moderate rain', 4.71)\n",
      "('2016-11-18 15:00:00+00', u'light rain', 6.96)\n",
      "('2016-11-18 18:00:00+00', u'clear sky', 6.11)\n",
      "('2016-11-18 21:00:00+00', u'scattered clouds', 4.7)\n",
      "('2016-11-19 00:00:00+00', u'light rain', 5.13)\n",
      "('2016-11-19 03:00:00+00', u'light rain', 5.93)\n",
      "('2016-11-19 06:00:00+00', u'light rain', 5.73)\n",
      "('2016-11-19 09:00:00+00', u'light rain', 5.74)\n",
      "('2016-11-19 12:00:00+00', u'light rain', 7.55)\n",
      "('2016-11-19 15:00:00+00', u'light rain', 7.25)\n",
      "('2016-11-19 18:00:00+00', u'light rain', 5.46)\n",
      "('2016-11-19 21:00:00+00', u'clear sky', 3.88)\n"
     ]
    }
   ],
   "source": [
    "# Using OpenWeatherMap\n",
    "import pyowm\n",
    "\n",
    "loc=\"Brussels, BE\"\n",
    "owm = pyowm.OWM(OWMkey)\n",
    "\n",
    "# Search for current weather\n",
    "observation = owm.weather_at_place(loc)\n",
    "w = observation.get_weather()\n",
    "\n",
    "print (\"Weather in \"+loc)\n",
    "print (w.get_temperature(unit='celsius'))\n",
    "print (w.get_detailed_status())\n",
    "print (\"\\nForecast for \"+loc)\n",
    "\n",
    "fc = owm.three_hours_forecast(loc)\n",
    "f=fc.get_forecast()\n",
    "temp_temp=[]\n",
    "dt_temp1=[]\n",
    "for weather in f:\n",
    "    print (weather.get_reference_time('iso'),weather.get_detailed_status(),weather.get_temperature(unit='celsius')['temp'])\n",
    "    temp_temp.append(weather.get_temperature(unit='celsius')['temp'])\n",
    "    dt_temp1.append(weather.get_reference_time())"
   ]
  },
  {
   "cell_type": "code",
   "execution_count": 9,
   "metadata": {
    "collapsed": false,
    "slideshow": {
     "slide_type": "slide"
    }
   },
   "outputs": [
    {
     "data": {
      "image/png": "[encoded data removed]",
      "text/plain": [
       "<matplotlib.figure.Figure at 0x514a7d0>"
      ]
     },
     "metadata": {},
     "output_type": "display_data"
    }
   ],
   "source": [
    "# Plot the weather data from previous cell\n",
    "dateconv = np.vectorize(dt.datetime.fromtimestamp)\n",
    "\n",
    "dates = dateconv(dt_temp1) # convert timestamps to datetime objects\n",
    "plt.figure(figsize=(10,5))\n",
    "plt.gca().xaxis.set_major_locator(mdates.DayLocator())\n",
    "plt.plot(dates, temp_temp)\n",
    "plt.xticks(rotation=75, ha='right') # set ticks at plotted datetimes\n",
    "ax=plt.gca()\n",
    "xfmt = mdates.DateFormatter('%Y-%m-%d %H:%M:%S')\n",
    "plt.title('Weather Forecast for '+loc)\n",
    "ax.xaxis.set_major_formatter(xfmt)"
   ]
  },
  {
   "cell_type": "code",
   "execution_count": 10,
   "metadata": {
    "collapsed": false,
    "slideshow": {
     "slide_type": "skip"
    }
   },
   "outputs": [],
   "source": [
    "from bokeh.plotting import figure, output_file, show\n",
    "from bokeh.io import output_notebook\n",
    "\n"
   ]
  },
  {
   "cell_type": "code",
   "execution_count": 11,
   "metadata": {
    "collapsed": false,
    "slideshow": {
     "slide_type": "skip"
    }
   },
   "outputs": [
    {
     "data": {
      "text/html": [
       "\n",
       "    <div class=\"bk-root\">\n",
       "        <a href=\"http://bokeh.pydata.org\" target=\"_blank\" class=\"bk-logo bk-logo-small bk-logo-notebook\"></a>\n",
       "        <span id=\"e8dd6562-b1c2-46a5-86a8-91b806a71381\">Loading BokehJS ...</span>\n",
       "    </div>"
      ]
     },
     "metadata": {},
     "output_type": "display_data"
    },
    {
     "data": {
      "application/javascript": [
       "\n",
       "(function(global) {\n",
       "  function now() {\n",
       "    return new Date();\n",
       "  }\n",
       "\n",
       "  var force = \"1\";\n",
       "\n",
       "  if (typeof (window._bokeh_onload_callbacks) === \"undefined\" || force !== \"\") {\n",
       "    window._bokeh_onload_callbacks = [];\n",
       "    window._bokeh_is_loading = undefined;\n",
       "  }\n",
       "\n",
       "\n",
       "  \n",
       "  if (typeof (window._bokeh_timeout) === \"undefined\" || force !== \"\") {\n",
       "    window._bokeh_timeout = Date.now() + 5000;\n",
       "    window._bokeh_failed_load = false;\n",
       "  }\n",
       "\n",
       "  var NB_LOAD_WARNING = {'data': {'text/html':\n",
       "     \"<div style='background-color: #fdd'>\\n\"+\n",
       "     \"<p>\\n\"+\n",
       "     \"BokehJS does not appear to have successfully loaded. If loading BokehJS from CDN, this \\n\"+\n",
       "     \"may be due to a slow or bad network connection. Possible fixes:\\n\"+\n",
       "     \"</p>\\n\"+\n",
       "     \"<ul>\\n\"+\n",
       "     \"<li>re-rerun `output_notebook()` to attempt to load from CDN again, or</li>\\n\"+\n",
       "     \"<li>use INLINE resources instead, as so:</li>\\n\"+\n",
       "     \"</ul>\\n\"+\n",
       "     \"<code>\\n\"+\n",
       "     \"from bokeh.resources import INLINE\\n\"+\n",
       "     \"output_notebook(resources=INLINE)\\n\"+\n",
       "     \"</code>\\n\"+\n",
       "     \"</div>\"}};\n",
       "\n",
       "  function display_loaded() {\n",
       "    if (window.Bokeh !== undefined) {\n",
       "      Bokeh.$(\"#e8dd6562-b1c2-46a5-86a8-91b806a71381\").text(\"BokehJS successfully loaded.\");\n",
       "    } else if (Date.now() < window._bokeh_timeout) {\n",
       "      setTimeout(display_loaded, 100)\n",
       "    }\n",
       "  }\n",
       "\n",
       "  function run_callbacks() {\n",
       "    window._bokeh_onload_callbacks.forEach(function(callback) { callback() });\n",
       "    delete window._bokeh_onload_callbacks\n",
       "    console.info(\"Bokeh: all callbacks have finished\");\n",
       "  }\n",
       "\n",
       "  function load_libs(js_urls, callback) {\n",
       "    window._bokeh_onload_callbacks.push(callback);\n",
       "    if (window._bokeh_is_loading > 0) {\n",
       "      console.log(\"Bokeh: BokehJS is being loaded, scheduling callback at\", now());\n",
       "      return null;\n",
       "    }\n",
       "    if (js_urls == null || js_urls.length === 0) {\n",
       "      run_callbacks();\n",
       "      return null;\n",
       "    }\n",
       "    console.log(\"Bokeh: BokehJS not loaded, scheduling load and callback at\", now());\n",
       "    window._bokeh_is_loading = js_urls.length;\n",
       "    for (var i = 0; i < js_urls.length; i++) {\n",
       "      var url = js_urls[i];\n",
       "      var s = document.createElement('script');\n",
       "      s.src = url;\n",
       "      s.async = false;\n",
       "      s.onreadystatechange = s.onload = function() {\n",
       "        window._bokeh_is_loading--;\n",
       "        if (window._bokeh_is_loading === 0) {\n",
       "          console.log(\"Bokeh: all BokehJS libraries loaded\");\n",
       "          run_callbacks()\n",
       "        }\n",
       "      };\n",
       "      s.onerror = function() {\n",
       "        console.warn(\"failed to load library \" + url);\n",
       "      };\n",
       "      console.log(\"Bokeh: injecting script tag for BokehJS library: \", url);\n",
       "      document.getElementsByTagName(\"head\")[0].appendChild(s);\n",
       "    }\n",
       "  };var element = document.getElementById(\"e8dd6562-b1c2-46a5-86a8-91b806a71381\");\n",
       "  if (element == null) {\n",
       "    console.log(\"Bokeh: ERROR: autoload.js configured with elementid 'e8dd6562-b1c2-46a5-86a8-91b806a71381' but no matching script tag was found. \")\n",
       "    return false;\n",
       "  }\n",
       "\n",
       "  var js_urls = ['https://cdn.pydata.org/bokeh/release/bokeh-0.12.3.min.js', 'https://cdn.pydata.org/bokeh/release/bokeh-widgets-0.12.3.min.js'];\n",
       "\n",
       "  var inline_js = [\n",
       "    function(Bokeh) {\n",
       "      Bokeh.set_log_level(\"info\");\n",
       "    },\n",
       "    \n",
       "    function(Bokeh) {\n",
       "      \n",
       "      Bokeh.$(\"#e8dd6562-b1c2-46a5-86a8-91b806a71381\").text(\"BokehJS is loading...\");\n",
       "    },\n",
       "    function(Bokeh) {\n",
       "      console.log(\"Bokeh: injecting CSS: https://cdn.pydata.org/bokeh/release/bokeh-0.12.3.min.css\");\n",
       "      Bokeh.embed.inject_css(\"https://cdn.pydata.org/bokeh/release/bokeh-0.12.3.min.css\");\n",
       "      console.log(\"Bokeh: injecting CSS: https://cdn.pydata.org/bokeh/release/bokeh-widgets-0.12.3.min.css\");\n",
       "      Bokeh.embed.inject_css(\"https://cdn.pydata.org/bokeh/release/bokeh-widgets-0.12.3.min.css\");\n",
       "    }\n",
       "  ];\n",
       "\n",
       "  function run_inline_js() {\n",
       "    \n",
       "    if ((window.Bokeh !== undefined) || (force === \"1\")) {\n",
       "      for (var i = 0; i < inline_js.length; i++) {\n",
       "        inline_js[i](window.Bokeh);\n",
       "      }if (force === \"1\") {\n",
       "        display_loaded();\n",
       "      }} else if (Date.now() < window._bokeh_timeout) {\n",
       "      setTimeout(run_inline_js, 100);\n",
       "    } else if (!window._bokeh_failed_load) {\n",
       "      console.log(\"Bokeh: BokehJS failed to load within specified timeout.\");\n",
       "      window._bokeh_failed_load = true;\n",
       "    } else if (!force) {\n",
       "      var cell = $(\"#e8dd6562-b1c2-46a5-86a8-91b806a71381\").parents('.cell').data().cell;\n",
       "      cell.output_area.append_execute_result(NB_LOAD_WARNING)\n",
       "    }\n",
       "\n",
       "  }\n",
       "\n",
       "  if (window._bokeh_is_loading === 0) {\n",
       "    console.log(\"Bokeh: BokehJS loaded, going straight to plotting\");\n",
       "    run_inline_js();\n",
       "  } else {\n",
       "    load_libs(js_urls, function() {\n",
       "      console.log(\"Bokeh: BokehJS plotting callback run at\", now());\n",
       "      run_inline_js();\n",
       "    });\n",
       "  }\n",
       "}(this));"
      ]
     },
     "metadata": {},
     "output_type": "display_data"
    }
   ],
   "source": [
    "output_notebook()"
   ]
  },
  {
   "cell_type": "code",
   "execution_count": 12,
   "metadata": {
    "collapsed": false,
    "slideshow": {
     "slide_type": "slide"
    }
   },
   "outputs": [
    {
     "data": {
      "text/html": [
       "\n",
       "\n",
       "    <div class=\"bk-root\">\n",
       "        <div class=\"plotdiv\" id=\"c34d32e1-d519-4f17-8b71-95ce8c58ee7c\"></div>\n",
       "    </div>\n",
       "<script type=\"text/javascript\">\n",
       "  \n",
       "  (function(global) {\n",
       "    function now() {\n",
       "      return new Date();\n",
       "    }\n",
       "  \n",
       "    var force = \"\";\n",
       "  \n",
       "    if (typeof (window._bokeh_onload_callbacks) === \"undefined\" || force !== \"\") {\n",
       "      window._bokeh_onload_callbacks = [];\n",
       "      window._bokeh_is_loading = undefined;\n",
       "    }\n",
       "  \n",
       "  \n",
       "    \n",
       "    if (typeof (window._bokeh_timeout) === \"undefined\" || force !== \"\") {\n",
       "      window._bokeh_timeout = Date.now() + 0;\n",
       "      window._bokeh_failed_load = false;\n",
       "    }\n",
       "  \n",
       "    var NB_LOAD_WARNING = {'data': {'text/html':\n",
       "       \"<div style='background-color: #fdd'>\\n\"+\n",
       "       \"<p>\\n\"+\n",
       "       \"BokehJS does not appear to have successfully loaded. If loading BokehJS from CDN, this \\n\"+\n",
       "       \"may be due to a slow or bad network connection. Possible fixes:\\n\"+\n",
       "       \"</p>\\n\"+\n",
       "       \"<ul>\\n\"+\n",
       "       \"<li>re-rerun `output_notebook()` to attempt to load from CDN again, or</li>\\n\"+\n",
       "       \"<li>use INLINE resources instead, as so:</li>\\n\"+\n",
       "       \"</ul>\\n\"+\n",
       "       \"<code>\\n\"+\n",
       "       \"from bokeh.resources import INLINE\\n\"+\n",
       "       \"output_notebook(resources=INLINE)\\n\"+\n",
       "       \"</code>\\n\"+\n",
       "       \"</div>\"}};\n",
       "  \n",
       "    function display_loaded() {\n",
       "      if (window.Bokeh !== undefined) {\n",
       "        Bokeh.$(\"#c34d32e1-d519-4f17-8b71-95ce8c58ee7c\").text(\"BokehJS successfully loaded.\");\n",
       "      } else if (Date.now() < window._bokeh_timeout) {\n",
       "        setTimeout(display_loaded, 100)\n",
       "      }\n",
       "    }\n",
       "  \n",
       "    function run_callbacks() {\n",
       "      window._bokeh_onload_callbacks.forEach(function(callback) { callback() });\n",
       "      delete window._bokeh_onload_callbacks\n",
       "      console.info(\"Bokeh: all callbacks have finished\");\n",
       "    }\n",
       "  \n",
       "    function load_libs(js_urls, callback) {\n",
       "      window._bokeh_onload_callbacks.push(callback);\n",
       "      if (window._bokeh_is_loading > 0) {\n",
       "        console.log(\"Bokeh: BokehJS is being loaded, scheduling callback at\", now());\n",
       "        return null;\n",
       "      }\n",
       "      if (js_urls == null || js_urls.length === 0) {\n",
       "        run_callbacks();\n",
       "        return null;\n",
       "      }\n",
       "      console.log(\"Bokeh: BokehJS not loaded, scheduling load and callback at\", now());\n",
       "      window._bokeh_is_loading = js_urls.length;\n",
       "      for (var i = 0; i < js_urls.length; i++) {\n",
       "        var url = js_urls[i];\n",
       "        var s = document.createElement('script');\n",
       "        s.src = url;\n",
       "        s.async = false;\n",
       "        s.onreadystatechange = s.onload = function() {\n",
       "          window._bokeh_is_loading--;\n",
       "          if (window._bokeh_is_loading === 0) {\n",
       "            console.log(\"Bokeh: all BokehJS libraries loaded\");\n",
       "            run_callbacks()\n",
       "          }\n",
       "        };\n",
       "        s.onerror = function() {\n",
       "          console.warn(\"failed to load library \" + url);\n",
       "        };\n",
       "        console.log(\"Bokeh: injecting script tag for BokehJS library: \", url);\n",
       "        document.getElementsByTagName(\"head\")[0].appendChild(s);\n",
       "      }\n",
       "    };var element = document.getElementById(\"c34d32e1-d519-4f17-8b71-95ce8c58ee7c\");\n",
       "    if (element == null) {\n",
       "      console.log(\"Bokeh: ERROR: autoload.js configured with elementid 'c34d32e1-d519-4f17-8b71-95ce8c58ee7c' but no matching script tag was found. \")\n",
       "      return false;\n",
       "    }\n",
       "  \n",
       "    var js_urls = [];\n",
       "  \n",
       "    var inline_js = [\n",
       "      function(Bokeh) {\n",
       "        Bokeh.$(function() {\n",
       "            var docs_json = {\"93bd5bed-5353-4321-93b1-7de65bfc0388\":{\"roots\":{\"references\":[{\"attributes\":{\"days\":[1,8,15,22]},\"id\":\"77b5f6f8-16d9-448e-a199-3713a209e384\",\"type\":\"DaysTicker\"},{\"attributes\":{\"plot\":{\"id\":\"7c37c1d3-077d-49a3-b90f-7bbc6297651d\",\"subtype\":\"Figure\",\"type\":\"Plot\"},\"ticker\":{\"id\":\"f4af3d2b-8e12-466e-b20e-aac9e1174c5d\",\"type\":\"DatetimeTicker\"}},\"id\":\"acce89c2-8d47-46bf-8af1-7ed2ae144e25\",\"type\":\"Grid\"},{\"attributes\":{\"bottom_units\":\"screen\",\"fill_alpha\":{\"value\":0.5},\"fill_color\":{\"value\":\"lightgrey\"},\"left_units\":\"screen\",\"level\":\"overlay\",\"line_alpha\":{\"value\":1.0},\"line_color\":{\"value\":\"black\"},\"line_dash\":[4,4],\"line_width\":{\"value\":2},\"plot\":null,\"render_mode\":\"css\",\"right_units\":\"screen\",\"top_units\":\"screen\"},\"id\":\"07a33981-107c-4f81-a65e-7124ce822565\",\"type\":\"BoxAnnotation\"},{\"attributes\":{\"overlay\":{\"id\":\"07a33981-107c-4f81-a65e-7124ce822565\",\"type\":\"BoxAnnotation\"},\"plot\":{\"id\":\"7c37c1d3-077d-49a3-b90f-7bbc6297651d\",\"subtype\":\"Figure\",\"type\":\"Plot\"}},\"id\":\"cb4d45e4-781e-46b5-bb8b-b5eac822535a\",\"type\":\"BoxZoomTool\"},{\"attributes\":{\"formatter\":{\"id\":\"3af65f8e-968a-4c77-a27c-69a0dbce546b\",\"type\":\"DatetimeTickFormatter\"},\"plot\":{\"id\":\"7c37c1d3-077d-49a3-b90f-7bbc6297651d\",\"subtype\":\"Figure\",\"type\":\"Plot\"},\"ticker\":{\"id\":\"f4af3d2b-8e12-466e-b20e-aac9e1174c5d\",\"type\":\"DatetimeTicker\"}},\"id\":\"6d194898-5d4b-46af-ad00-ec8069c1dfa2\",\"type\":\"DatetimeAxis\"},{\"attributes\":{\"base\":60,\"mantissas\":[1,2,5,10,15,20,30],\"max_interval\":1800000.0,\"min_interval\":1000.0,\"num_minor_ticks\":0},\"id\":\"4955395f-1362-4b5e-a10f-254a0729f343\",\"type\":\"AdaptiveTicker\"},{\"attributes\":{\"plot\":{\"id\":\"7c37c1d3-077d-49a3-b90f-7bbc6297651d\",\"subtype\":\"Figure\",\"type\":\"Plot\"}},\"id\":\"da953d15-22b0-48c8-b4eb-0562fd9f629a\",\"type\":\"PanTool\"},{\"attributes\":{\"num_minor_ticks\":5},\"id\":\"f4af3d2b-8e12-466e-b20e-aac9e1174c5d\",\"type\":\"DatetimeTicker\"},{\"attributes\":{\"callback\":null},\"id\":\"8805fa61-7783-4b52-9aa5-0e28b7c67c80\",\"type\":\"DataRange1d\"},{\"attributes\":{\"active_drag\":\"auto\",\"active_scroll\":\"auto\",\"active_tap\":\"auto\",\"tools\":[{\"id\":\"da953d15-22b0-48c8-b4eb-0562fd9f629a\",\"type\":\"PanTool\"},{\"id\":\"b3c855f1-5f2b-4875-b1c9-e56ee4733fba\",\"type\":\"WheelZoomTool\"},{\"id\":\"cb4d45e4-781e-46b5-bb8b-b5eac822535a\",\"type\":\"BoxZoomTool\"},{\"id\":\"ef500ea6-90c6-4e41-981f-baa8c535bd57\",\"type\":\"SaveTool\"},{\"id\":\"7761a5e6-32e1-49af-8ae5-45de67b2c01e\",\"type\":\"ResetTool\"},{\"id\":\"1bbb8c32-d632-4ece-bc95-ab7cf1eefb00\",\"type\":\"HelpTool\"}]},\"id\":\"6e90533a-07bd-4414-a6ef-cdad05559d74\",\"type\":\"Toolbar\"},{\"attributes\":{\"months\":[0,1,2,3,4,5,6,7,8,9,10,11]},\"id\":\"860002ec-2dd9-411a-86a4-67323f2d3019\",\"type\":\"MonthsTicker\"},{\"attributes\":{\"plot\":{\"id\":\"7c37c1d3-077d-49a3-b90f-7bbc6297651d\",\"subtype\":\"Figure\",\"type\":\"Plot\"}},\"id\":\"7761a5e6-32e1-49af-8ae5-45de67b2c01e\",\"type\":\"ResetTool\"},{\"attributes\":{\"callback\":null,\"column_names\":[\"y\",\"x\"],\"data\":{\"x\":[1479200400000.0,1479211200000.0,1479222000000.0,1479232800000.0,1479243600000.0,1479254400000.0,1479265200000.0,1479276000000.0,1479286800000.0,1479297600000.0,1479308400000.0,1479319200000.0,1479330000000.0,1479340800000.0,1479351600000.0,1479362400000.0,1479373200000.0,1479384000000.0,1479394800000.0,1479405600000.0,1479416400000.0,1479427200000.0,1479438000000.0,1479448800000.0,1479459600000.0,1479470400000.0,1479481200000.0,1479492000000.0,1479502800000.0,1479513600000.0,1479524400000.0,1479535200000.0,1479546000000.0,1479556800000.0,1479567600000.0,1479578400000.0,1479589200000.0],\"y\":[9.6,11.27,11.93,11.68,11.85,11.92,11.85,11.59,12.5,13.2,12.97,11.2,10.79,10.66,9.62,7.51,9.17,11.17,10.08,9.28,8.34,8.62,7.22,6.03,6.3,4.71,6.96,6.11,4.7,5.13,5.93,5.73,5.74,7.55,7.25,5.46,3.88]}},\"id\":\"1ea3c872-dab3-48eb-8315-5517b1254133\",\"type\":\"ColumnDataSource\"},{\"attributes\":{\"days\":[1,15]},\"id\":\"cadade52-ac73-4b24-b1f6-7945b1b13075\",\"type\":\"DaysTicker\"},{\"attributes\":{},\"id\":\"d3cba8c5-dbf3-4deb-86bb-ce4dc9823718\",\"type\":\"BasicTickFormatter\"},{\"attributes\":{\"plot\":null,\"text\":null},\"id\":\"cae933c2-8e29-4c57-9edd-14a5f50f9dd8\",\"type\":\"Title\"},{\"attributes\":{},\"id\":\"d0f550a4-1bb1-4e97-aec1-7cf49d425bd9\",\"type\":\"YearsTicker\"},{\"attributes\":{\"below\":[{\"id\":\"6d194898-5d4b-46af-ad00-ec8069c1dfa2\",\"type\":\"DatetimeAxis\"}],\"left\":[{\"id\":\"5e68fef1-a4b5-4080-a09c-69ce515e5e4d\",\"type\":\"LinearAxis\"}],\"plot_height\":450,\"plot_width\":800,\"renderers\":[{\"id\":\"6d194898-5d4b-46af-ad00-ec8069c1dfa2\",\"type\":\"DatetimeAxis\"},{\"id\":\"acce89c2-8d47-46bf-8af1-7ed2ae144e25\",\"type\":\"Grid\"},{\"id\":\"5e68fef1-a4b5-4080-a09c-69ce515e5e4d\",\"type\":\"LinearAxis\"},{\"id\":\"c3e38dc8-89d9-4590-8489-6343d82f45ec\",\"type\":\"Grid\"},{\"id\":\"07a33981-107c-4f81-a65e-7124ce822565\",\"type\":\"BoxAnnotation\"},{\"id\":\"5b685201-cacf-4f96-b427-77adb2778dd0\",\"type\":\"GlyphRenderer\"}],\"title\":{\"id\":\"cae933c2-8e29-4c57-9edd-14a5f50f9dd8\",\"type\":\"Title\"},\"tool_events\":{\"id\":\"0801cd99-3761-445e-a4ef-b6d1534bc05e\",\"type\":\"ToolEvents\"},\"toolbar\":{\"id\":\"6e90533a-07bd-4414-a6ef-cdad05559d74\",\"type\":\"Toolbar\"},\"x_range\":{\"id\":\"1e4008e0-e833-4245-9c2b-52a55a15d357\",\"type\":\"DataRange1d\"},\"y_range\":{\"id\":\"8805fa61-7783-4b52-9aa5-0e28b7c67c80\",\"type\":\"DataRange1d\"}},\"id\":\"7c37c1d3-077d-49a3-b90f-7bbc6297651d\",\"subtype\":\"Figure\",\"type\":\"Plot\"},{\"attributes\":{\"data_source\":{\"id\":\"1ea3c872-dab3-48eb-8315-5517b1254133\",\"type\":\"ColumnDataSource\"},\"glyph\":{\"id\":\"c64cb3e0-a3b5-4198-af1a-cbccf55dbbcb\",\"type\":\"Line\"},\"hover_glyph\":null,\"nonselection_glyph\":{\"id\":\"86c7973d-2331-4585-b370-b7cc0dbfdad6\",\"type\":\"Line\"},\"selection_glyph\":null},\"id\":\"5b685201-cacf-4f96-b427-77adb2778dd0\",\"type\":\"GlyphRenderer\"},{\"attributes\":{},\"id\":\"39942011-51d5-400e-abc2-81e799158d5a\",\"type\":\"BasicTicker\"},{\"attributes\":{\"base\":24,\"mantissas\":[1,2,4,6,8,12],\"max_interval\":43200000.0,\"min_interval\":3600000.0,\"num_minor_ticks\":0},\"id\":\"70c79134-6d0d-4a1e-8bdb-c9d6beeab09f\",\"type\":\"AdaptiveTicker\"},{\"attributes\":{\"dimension\":1,\"plot\":{\"id\":\"7c37c1d3-077d-49a3-b90f-7bbc6297651d\",\"subtype\":\"Figure\",\"type\":\"Plot\"},\"ticker\":{\"id\":\"39942011-51d5-400e-abc2-81e799158d5a\",\"type\":\"BasicTicker\"}},\"id\":\"c3e38dc8-89d9-4590-8489-6343d82f45ec\",\"type\":\"Grid\"},{\"attributes\":{},\"id\":\"3af65f8e-968a-4c77-a27c-69a0dbce546b\",\"type\":\"DatetimeTickFormatter\"},{\"attributes\":{\"callback\":null},\"id\":\"1e4008e0-e833-4245-9c2b-52a55a15d357\",\"type\":\"DataRange1d\"},{\"attributes\":{\"plot\":{\"id\":\"7c37c1d3-077d-49a3-b90f-7bbc6297651d\",\"subtype\":\"Figure\",\"type\":\"Plot\"}},\"id\":\"ef500ea6-90c6-4e41-981f-baa8c535bd57\",\"type\":\"SaveTool\"},{\"attributes\":{\"days\":[1,2,3,4,5,6,7,8,9,10,11,12,13,14,15,16,17,18,19,20,21,22,23,24,25,26,27,28,29,30,31]},\"id\":\"25876fa6-f620-417f-8965-a89ff5445093\",\"type\":\"DaysTicker\"},{\"attributes\":{},\"id\":\"0801cd99-3761-445e-a4ef-b6d1534bc05e\",\"type\":\"ToolEvents\"},{\"attributes\":{\"months\":[0,6]},\"id\":\"0bddc9fc-6b09-4b1c-8667-78dec07266c6\",\"type\":\"MonthsTicker\"},{\"attributes\":{\"line_alpha\":{\"value\":0.1},\"line_color\":{\"value\":\"#1f77b4\"},\"x\":{\"field\":\"x\"},\"y\":{\"field\":\"y\"}},\"id\":\"86c7973d-2331-4585-b370-b7cc0dbfdad6\",\"type\":\"Line\"},{\"attributes\":{\"line_color\":{\"value\":\"#1f77b4\"},\"x\":{\"field\":\"x\"},\"y\":{\"field\":\"y\"}},\"id\":\"c64cb3e0-a3b5-4198-af1a-cbccf55dbbcb\",\"type\":\"Line\"},{\"attributes\":{\"months\":[0,2,4,6,8,10]},\"id\":\"bed65799-7bed-4fea-857e-3a052c2b0b7b\",\"type\":\"MonthsTicker\"},{\"attributes\":{\"months\":[0,4,8]},\"id\":\"8a16eacb-6d69-4c64-8702-79c2c89867b8\",\"type\":\"MonthsTicker\"},{\"attributes\":{\"formatter\":{\"id\":\"d3cba8c5-dbf3-4deb-86bb-ce4dc9823718\",\"type\":\"BasicTickFormatter\"},\"plot\":{\"id\":\"7c37c1d3-077d-49a3-b90f-7bbc6297651d\",\"subtype\":\"Figure\",\"type\":\"Plot\"},\"ticker\":{\"id\":\"39942011-51d5-400e-abc2-81e799158d5a\",\"type\":\"BasicTicker\"}},\"id\":\"5e68fef1-a4b5-4080-a09c-69ce515e5e4d\",\"type\":\"LinearAxis\"},{\"attributes\":{\"plot\":{\"id\":\"7c37c1d3-077d-49a3-b90f-7bbc6297651d\",\"subtype\":\"Figure\",\"type\":\"Plot\"}},\"id\":\"1bbb8c32-d632-4ece-bc95-ab7cf1eefb00\",\"type\":\"HelpTool\"},{\"attributes\":{\"plot\":{\"id\":\"7c37c1d3-077d-49a3-b90f-7bbc6297651d\",\"subtype\":\"Figure\",\"type\":\"Plot\"}},\"id\":\"b3c855f1-5f2b-4875-b1c9-e56ee4733fba\",\"type\":\"WheelZoomTool\"},{\"attributes\":{\"days\":[1,4,7,10,13,16,19,22,25,28]},\"id\":\"54745a6c-7893-4f6a-ba44-639e929cf7ab\",\"type\":\"DaysTicker\"},{\"attributes\":{\"max_interval\":500.0,\"num_minor_ticks\":0},\"id\":\"bfd51a1e-183f-4389-98ab-9264f93f45de\",\"type\":\"AdaptiveTicker\"}],\"root_ids\":[\"7c37c1d3-077d-49a3-b90f-7bbc6297651d\"]},\"title\":\"Bokeh Application\",\"version\":\"0.12.3\"}};\n",
       "            var render_items = [{\"docid\":\"93bd5bed-5353-4321-93b1-7de65bfc0388\",\"elementid\":\"c34d32e1-d519-4f17-8b71-95ce8c58ee7c\",\"modelid\":\"7c37c1d3-077d-49a3-b90f-7bbc6297651d\"}];\n",
       "            \n",
       "            Bokeh.embed.embed_items(docs_json, render_items);\n",
       "        });\n",
       "      },\n",
       "      function(Bokeh) {\n",
       "      }\n",
       "    ];\n",
       "  \n",
       "    function run_inline_js() {\n",
       "      \n",
       "      if ((window.Bokeh !== undefined) || (force === \"1\")) {\n",
       "        for (var i = 0; i < inline_js.length; i++) {\n",
       "          inline_js[i](window.Bokeh);\n",
       "        }if (force === \"1\") {\n",
       "          display_loaded();\n",
       "        }} else if (Date.now() < window._bokeh_timeout) {\n",
       "        setTimeout(run_inline_js, 100);\n",
       "      } else if (!window._bokeh_failed_load) {\n",
       "        console.log(\"Bokeh: BokehJS failed to load within specified timeout.\");\n",
       "        window._bokeh_failed_load = true;\n",
       "      } else if (!force) {\n",
       "        var cell = $(\"#c34d32e1-d519-4f17-8b71-95ce8c58ee7c\").parents('.cell').data().cell;\n",
       "        cell.output_area.append_execute_result(NB_LOAD_WARNING)\n",
       "      }\n",
       "  \n",
       "    }\n",
       "  \n",
       "    if (window._bokeh_is_loading === 0) {\n",
       "      console.log(\"Bokeh: BokehJS loaded, going straight to plotting\");\n",
       "      run_inline_js();\n",
       "    } else {\n",
       "      load_libs(js_urls, function() {\n",
       "        console.log(\"Bokeh: BokehJS plotting callback run at\", now());\n",
       "        run_inline_js();\n",
       "      });\n",
       "    }\n",
       "  }(this));\n",
       "</script>"
      ]
     },
     "metadata": {},
     "output_type": "display_data"
    }
   ],
   "source": [
    "p = figure(x_axis_type=\"datetime\", width=800, height=450)\n",
    "p.line(x=dates, y=temp_temp)\n",
    "\n",
    "show(p)"
   ]
  },
  {
   "cell_type": "markdown",
   "metadata": {
    "slideshow": {
     "slide_type": "slide"
    }
   },
   "source": [
    "# SQL Magic und DB2"
   ]
  },
  {
   "cell_type": "code",
   "execution_count": 13,
   "metadata": {
    "collapsed": false,
    "slideshow": {
     "slide_type": "slide"
    }
   },
   "outputs": [],
   "source": [
    "# loads the SQL magic extensions\n",
    "%load_ext sql"
   ]
  },
  {
   "cell_type": "code",
   "execution_count": 14,
   "metadata": {
    "collapsed": false,
    "slideshow": {
     "slide_type": "fragment"
    }
   },
   "outputs": [
    {
     "data": {
      "text/plain": [
       "u'Connected: hloeser@HLTEST'"
      ]
     },
     "execution_count": 14,
     "metadata": {},
     "output_type": "execute_result"
    }
   ],
   "source": [
    "# Connect to dashDB\n",
    "#%sql db2+ibm_db://$dashName:$dashPW@$dashHost:50000/BLUDB\n",
    "%sql db2+ibm_db://hloeser:$LocalDB2password@localhost:50000/HLTEST"
   ]
  },
  {
   "cell_type": "code",
   "execution_count": 15,
   "metadata": {
    "collapsed": false,
    "slideshow": {
     "slide_type": "fragment"
    }
   },
   "outputs": [
    {
     "name": "stdout",
     "output_type": "stream",
     "text": [
      "Done.\n"
     ]
    },
    {
     "data": {
      "text/html": [
       "<table>\n",
       "    <tr>\n",
       "        <th>1</th>\n",
       "    </tr>\n",
       "    <tr>\n",
       "        <td>435</td>\n",
       "    </tr>\n",
       "</table>"
      ],
      "text/plain": [
       "[(435,)]"
      ]
     },
     "execution_count": 15,
     "metadata": {},
     "output_type": "execute_result"
    }
   ],
   "source": [
    "%%sql \n",
    "select count(tabname) from syscat.tables"
   ]
  },
  {
   "cell_type": "code",
   "execution_count": 16,
   "metadata": {
    "collapsed": false,
    "slideshow": {
     "slide_type": "slide"
    }
   },
   "outputs": [
    {
     "name": "stdout",
     "output_type": "stream",
     "text": [
      "Done.\n"
     ]
    },
    {
     "data": {
      "text/html": [
       "<table>\n",
       "    <tr>\n",
       "        <th>tabschema</th>\n",
       "        <th>tabname</th>\n",
       "        <th>colnames</th>\n",
       "        <th>uniquerule</th>\n",
       "    </tr>\n",
       "    <tr>\n",
       "        <td>SYSIBM  </td>\n",
       "        <td>SYSTABLES</td>\n",
       "        <td>+CREATOR+NAME</td>\n",
       "        <td>U</td>\n",
       "    </tr>\n",
       "    <tr>\n",
       "        <td>SYSIBM  </td>\n",
       "        <td>SYSTABLES</td>\n",
       "        <td>+ROWTYPESCHEMA+ROWTYPENAME+CREATOR+NAME</td>\n",
       "        <td>U</td>\n",
       "    </tr>\n",
       "    <tr>\n",
       "        <td>SYSIBM  </td>\n",
       "        <td>SYSCOLUMNS</td>\n",
       "        <td>+TBCREATOR+TBNAME+NAME</td>\n",
       "        <td>U</td>\n",
       "    </tr>\n",
       "    <tr>\n",
       "        <td>SYSIBM  </td>\n",
       "        <td>SYSINDEXES</td>\n",
       "        <td>+CREATOR+NAME</td>\n",
       "        <td>U</td>\n",
       "    </tr>\n",
       "    <tr>\n",
       "        <td>SYSIBM  </td>\n",
       "        <td>SYSINDEXES</td>\n",
       "        <td>+TBCREATOR+TBNAME+IID</td>\n",
       "        <td>U</td>\n",
       "    </tr>\n",
       "    <tr>\n",
       "        <td>SYSIBM  </td>\n",
       "        <td>SYSVIEWDEP</td>\n",
       "        <td>+BCREATOR+BNAME+BMODULEID+BTYPE+DCREATOR+DNAME</td>\n",
       "        <td>U</td>\n",
       "    </tr>\n",
       "    <tr>\n",
       "        <td>SYSIBM  </td>\n",
       "        <td>SYSPLAN</td>\n",
       "        <td>+CREATOR+NAME+UNIQUE_ID</td>\n",
       "        <td>U</td>\n",
       "    </tr>\n",
       "    <tr>\n",
       "        <td>SYSIBM  </td>\n",
       "        <td>SYSPLAN</td>\n",
       "        <td>+CREATOR+NAME+PKGVERSION</td>\n",
       "        <td>U</td>\n",
       "    </tr>\n",
       "    <tr>\n",
       "        <td>SYSIBM  </td>\n",
       "        <td>SYSPLAN</td>\n",
       "        <td>-PKGID</td>\n",
       "        <td>U</td>\n",
       "    </tr>\n",
       "    <tr>\n",
       "        <td>SYSIBM  </td>\n",
       "        <td>SYSPLANDEP</td>\n",
       "        <td>+BCREATOR+BNAME+BMODULEID+BTYPE+DCREATOR+DNAME+DUNIQUE_ID</td>\n",
       "        <td>U</td>\n",
       "    </tr>\n",
       "    <tr>\n",
       "        <td>SYSIBM  </td>\n",
       "        <td>SYSSECTION</td>\n",
       "        <td>+PLCREATOR+PLNAME+UNIQUE_ID+SECTNO</td>\n",
       "        <td>U</td>\n",
       "    </tr>\n",
       "    <tr>\n",
       "        <td>SYSIBM  </td>\n",
       "        <td>SYSSTMT</td>\n",
       "        <td>+PLCREATOR+PLNAME+UNIQUE_ID+SECTNO</td>\n",
       "        <td>U</td>\n",
       "    </tr>\n",
       "    <tr>\n",
       "        <td>SYSIBM  </td>\n",
       "        <td>SYSDBAUTH</td>\n",
       "        <td>+GRANTEE+GRANTEETYPE+GRANTOR+GRANTORTYPE</td>\n",
       "        <td>U</td>\n",
       "    </tr>\n",
       "    <tr>\n",
       "        <td>SYSIBM  </td>\n",
       "        <td>SYSPLANAUTH</td>\n",
       "        <td>+GRANTEE+CREATOR+NAME+GRANTEETYPE+GRANTOR+GRANTORTYPE</td>\n",
       "        <td>U</td>\n",
       "    </tr>\n",
       "    <tr>\n",
       "        <td>SYSIBM  </td>\n",
       "        <td>SYSTABAUTH</td>\n",
       "        <td>+GRANTEE+TCREATOR+TTNAME+GRANTEETYPE+GRANTOR+GRANTORTYPE</td>\n",
       "        <td>U</td>\n",
       "    </tr>\n",
       "    <tr>\n",
       "        <td>SYSIBM  </td>\n",
       "        <td>SYSINDEXAUTH</td>\n",
       "        <td>+GRANTEE+CREATOR+NAME+GRANTEETYPE+GRANTOR+GRANTORTYPE</td>\n",
       "        <td>U</td>\n",
       "    </tr>\n",
       "    <tr>\n",
       "        <td>SYSIBM  </td>\n",
       "        <td>SYSRELS</td>\n",
       "        <td>+CREATOR+TBNAME+RELNAME</td>\n",
       "        <td>U</td>\n",
       "    </tr>\n",
       "    <tr>\n",
       "        <td>SYSIBM  </td>\n",
       "        <td>SYSROUTINES</td>\n",
       "        <td>+SPECIFICNAME+ROUTINESCHEMA+NAMESPACE+ROUTINEMODULEID</td>\n",
       "        <td>U</td>\n",
       "    </tr>\n",
       "    <tr>\n",
       "        <td>SYSIBM  </td>\n",
       "        <td>SYSROUTINES</td>\n",
       "        <td>+ROUTINENAME+PARM_COUNT-PARM_SIGNATURE+ROUTINESCHEMA+NAMESPACE+ROUTINEMODULEID</td>\n",
       "        <td>U</td>\n",
       "    </tr>\n",
       "    <tr>\n",
       "        <td>SYSIBM  </td>\n",
       "        <td>SYSROUTINES</td>\n",
       "        <td>-ROUTINE_ID</td>\n",
       "        <td>U</td>\n",
       "    </tr>\n",
       "</table>"
      ],
      "text/plain": [
       "[(u'SYSIBM  ', u'SYSTABLES', u'+CREATOR+NAME', u'U'),\n",
       " (u'SYSIBM  ', u'SYSTABLES', u'+ROWTYPESCHEMA+ROWTYPENAME+CREATOR+NAME', u'U'),\n",
       " (u'SYSIBM  ', u'SYSCOLUMNS', u'+TBCREATOR+TBNAME+NAME', u'U'),\n",
       " (u'SYSIBM  ', u'SYSINDEXES', u'+CREATOR+NAME', u'U'),\n",
       " (u'SYSIBM  ', u'SYSINDEXES', u'+TBCREATOR+TBNAME+IID', u'U'),\n",
       " (u'SYSIBM  ', u'SYSVIEWDEP', u'+BCREATOR+BNAME+BMODULEID+BTYPE+DCREATOR+DNAME', u'U'),\n",
       " (u'SYSIBM  ', u'SYSPLAN', u'+CREATOR+NAME+UNIQUE_ID', u'U'),\n",
       " (u'SYSIBM  ', u'SYSPLAN', u'+CREATOR+NAME+PKGVERSION', u'U'),\n",
       " (u'SYSIBM  ', u'SYSPLAN', u'-PKGID', u'U'),\n",
       " (u'SYSIBM  ', u'SYSPLANDEP', u'+BCREATOR+BNAME+BMODULEID+BTYPE+DCREATOR+DNAME+DUNIQUE_ID', u'U'),\n",
       " (u'SYSIBM  ', u'SYSSECTION', u'+PLCREATOR+PLNAME+UNIQUE_ID+SECTNO', u'U'),\n",
       " (u'SYSIBM  ', u'SYSSTMT', u'+PLCREATOR+PLNAME+UNIQUE_ID+SECTNO', u'U'),\n",
       " (u'SYSIBM  ', u'SYSDBAUTH', u'+GRANTEE+GRANTEETYPE+GRANTOR+GRANTORTYPE', u'U'),\n",
       " (u'SYSIBM  ', u'SYSPLANAUTH', u'+GRANTEE+CREATOR+NAME+GRANTEETYPE+GRANTOR+GRANTORTYPE', u'U'),\n",
       " (u'SYSIBM  ', u'SYSTABAUTH', u'+GRANTEE+TCREATOR+TTNAME+GRANTEETYPE+GRANTOR+GRANTORTYPE', u'U'),\n",
       " (u'SYSIBM  ', u'SYSINDEXAUTH', u'+GRANTEE+CREATOR+NAME+GRANTEETYPE+GRANTOR+GRANTORTYPE', u'U'),\n",
       " (u'SYSIBM  ', u'SYSRELS', u'+CREATOR+TBNAME+RELNAME', u'U'),\n",
       " (u'SYSIBM  ', u'SYSROUTINES', u'+SPECIFICNAME+ROUTINESCHEMA+NAMESPACE+ROUTINEMODULEID', u'U'),\n",
       " (u'SYSIBM  ', u'SYSROUTINES', u'+ROUTINENAME+PARM_COUNT-PARM_SIGNATURE+ROUTINESCHEMA+NAMESPACE+ROUTINEMODULEID', u'U'),\n",
       " (u'SYSIBM  ', u'SYSROUTINES', u'-ROUTINE_ID', u'U')]"
      ]
     },
     "execution_count": 16,
     "metadata": {},
     "output_type": "execute_result"
    }
   ],
   "source": [
    "%%sql \n",
    "select TABSCHEMA,TABNAME,COLNAMES,UNIQUERULE FROM SYSCAT.INDEXES WHERE UNIQUERULE='U' LIMIT 20"
   ]
  },
  {
   "cell_type": "code",
   "execution_count": 17,
   "metadata": {
    "collapsed": false,
    "slideshow": {
     "slide_type": "slide"
    }
   },
   "outputs": [
    {
     "name": "stdout",
     "output_type": "stream",
     "text": [
      "Done.\n"
     ]
    },
    {
     "data": {
      "text/plain": [
       "<Container object of 7 artists>"
      ]
     },
     "execution_count": 17,
     "metadata": {},
     "output_type": "execute_result"
    },
    {
     "data": {
      "image/png": "[encoded data removed]",
      "text/plain": [
       "<matplotlib.figure.Figure at 0x5d3a1d0>"
      ]
     },
     "metadata": {},
     "output_type": "display_data"
    }
   ],
   "source": [
    "result= %sql select tabschema,count(tabname) as count from syscat.tables group by tabschema order by 2 desc limit 20\n",
    "%matplotlib inline\n",
    "result.bar()"
   ]
  },
  {
   "cell_type": "code",
   "execution_count": 18,
   "metadata": {
    "collapsed": false,
    "slideshow": {
     "slide_type": "slide"
    }
   },
   "outputs": [
    {
     "data": {
      "text/html": [
       "<div>\n",
       "<table border=\"1\" class=\"dataframe\">\n",
       "  <thead>\n",
       "    <tr style=\"text-align: right;\">\n",
       "      <th></th>\n",
       "      <th>COUNT</th>\n",
       "    </tr>\n",
       "  </thead>\n",
       "  <tbody>\n",
       "    <tr>\n",
       "      <th>count</th>\n",
       "      <td>7.000000</td>\n",
       "    </tr>\n",
       "    <tr>\n",
       "      <th>mean</th>\n",
       "      <td>62.142857</td>\n",
       "    </tr>\n",
       "    <tr>\n",
       "      <th>std</th>\n",
       "      <td>78.740986</td>\n",
       "    </tr>\n",
       "    <tr>\n",
       "      <th>min</th>\n",
       "      <td>1.000000</td>\n",
       "    </tr>\n",
       "    <tr>\n",
       "      <th>25%</th>\n",
       "      <td>3.000000</td>\n",
       "    </tr>\n",
       "    <tr>\n",
       "      <th>50%</th>\n",
       "      <td>9.000000</td>\n",
       "    </tr>\n",
       "    <tr>\n",
       "      <th>75%</th>\n",
       "      <td>117.500000</td>\n",
       "    </tr>\n",
       "    <tr>\n",
       "      <th>max</th>\n",
       "      <td>184.000000</td>\n",
       "    </tr>\n",
       "  </tbody>\n",
       "</table>\n",
       "</div>"
      ],
      "text/plain": [
       "            COUNT\n",
       "count    7.000000\n",
       "mean    62.142857\n",
       "std     78.740986\n",
       "min      1.000000\n",
       "25%      3.000000\n",
       "50%      9.000000\n",
       "75%    117.500000\n",
       "max    184.000000"
      ]
     },
     "execution_count": 18,
     "metadata": {},
     "output_type": "execute_result"
    }
   ],
   "source": [
    "df=result.DataFrame()\n",
    "df.describe()"
   ]
  },
  {
   "cell_type": "code",
   "execution_count": 20,
   "metadata": {
    "collapsed": false,
    "slideshow": {
     "slide_type": "slide"
    }
   },
   "outputs": [
    {
     "data": {
      "text/plain": [
       "u'Persisted henrikdf2'"
      ]
     },
     "execution_count": 20,
     "metadata": {},
     "output_type": "execute_result"
    }
   ],
   "source": [
    "henrikdf2=result.DataFrame()\n",
    "henrikdf2.apply(lambda x: pd.to_numeric(x, errors='ignore'))\n",
    "%sql PERSIST henrikdf2"
   ]
  },
  {
   "cell_type": "code",
   "execution_count": 21,
   "metadata": {
    "collapsed": false,
    "slideshow": {
     "slide_type": "slide"
    }
   },
   "outputs": [
    {
     "name": "stdout",
     "output_type": "stream",
     "text": [
      "Done.\n"
     ]
    },
    {
     "data": {
      "text/html": [
       "<table>\n",
       "    <tr>\n",
       "        <th>index</th>\n",
       "        <th>tabschema</th>\n",
       "        <th>COUNT</th>\n",
       "    </tr>\n",
       "    <tr>\n",
       "        <td>0</td>\n",
       "        <td>SYSIBM  </td>\n",
       "        <td>184</td>\n",
       "    </tr>\n",
       "    <tr>\n",
       "        <td>1</td>\n",
       "        <td>SYSCAT  </td>\n",
       "        <td>154</td>\n",
       "    </tr>\n",
       "    <tr>\n",
       "        <td>2</td>\n",
       "        <td>SYSIBMADM</td>\n",
       "        <td>81</td>\n",
       "    </tr>\n",
       "    <tr>\n",
       "        <td>3</td>\n",
       "        <td>SYSSTAT </td>\n",
       "        <td>9</td>\n",
       "    </tr>\n",
       "    <tr>\n",
       "        <td>4</td>\n",
       "        <td>HLOESER </td>\n",
       "        <td>3</td>\n",
       "    </tr>\n",
       "    <tr>\n",
       "        <td>5</td>\n",
       "        <td>SYSTOOLS</td>\n",
       "        <td>3</td>\n",
       "    </tr>\n",
       "    <tr>\n",
       "        <td>6</td>\n",
       "        <td>SYSPUBLIC</td>\n",
       "        <td>1</td>\n",
       "    </tr>\n",
       "</table>"
      ],
      "text/plain": [
       "[(0L, u'SYSIBM  ', 184L),\n",
       " (1L, u'SYSCAT  ', 154L),\n",
       " (2L, u'SYSIBMADM', 81L),\n",
       " (3L, u'SYSSTAT ', 9L),\n",
       " (4L, u'HLOESER ', 3L),\n",
       " (5L, u'SYSTOOLS', 3L),\n",
       " (6L, u'SYSPUBLIC', 1L)]"
      ]
     },
     "execution_count": 21,
     "metadata": {},
     "output_type": "execute_result"
    }
   ],
   "source": [
    "%sql select * from henrikdf2"
   ]
  },
  {
   "cell_type": "code",
   "execution_count": 22,
   "metadata": {
    "collapsed": false,
    "slideshow": {
     "slide_type": "slide"
    }
   },
   "outputs": [
    {
     "name": "stdout",
     "output_type": "stream",
     "text": [
      "Done.\n"
     ]
    },
    {
     "data": {
      "text/html": [
       "<table>\n",
       "    <tr>\n",
       "        <th>tabschema</th>\n",
       "        <th>COUNT</th>\n",
       "    </tr>\n",
       "    <tr>\n",
       "        <td>SYSIBM  </td>\n",
       "        <td>184</td>\n",
       "    </tr>\n",
       "    <tr>\n",
       "        <td>SYSCAT  </td>\n",
       "        <td>154</td>\n",
       "    </tr>\n",
       "    <tr>\n",
       "        <td>SYSIBMADM</td>\n",
       "        <td>81</td>\n",
       "    </tr>\n",
       "    <tr>\n",
       "        <td>SYSSTAT </td>\n",
       "        <td>9</td>\n",
       "    </tr>\n",
       "    <tr>\n",
       "        <td>HLOESER </td>\n",
       "        <td>3</td>\n",
       "    </tr>\n",
       "    <tr>\n",
       "        <td>SYSTOOLS</td>\n",
       "        <td>3</td>\n",
       "    </tr>\n",
       "    <tr>\n",
       "        <td>SYSPUBLIC</td>\n",
       "        <td>1</td>\n",
       "    </tr>\n",
       "</table>"
      ],
      "text/plain": [
       "[(u'SYSIBM  ', 184),\n",
       " (u'SYSCAT  ', 154),\n",
       " (u'SYSIBMADM', 81),\n",
       " (u'SYSSTAT ', 9),\n",
       " (u'HLOESER ', 3),\n",
       " (u'SYSTOOLS', 3),\n",
       " (u'SYSPUBLIC', 1)]"
      ]
     },
     "execution_count": 22,
     "metadata": {},
     "output_type": "execute_result"
    }
   ],
   "source": [
    "% sql select tabschema,count(tabname) as count from syscat.tables group by tabschema order by 2 desc limit 20\n"
   ]
  },
  {
   "cell_type": "code",
   "execution_count": 23,
   "metadata": {
    "collapsed": false,
    "slideshow": {
     "slide_type": "slide"
    }
   },
   "outputs": [
    {
     "name": "stdout",
     "output_type": "stream",
     "text": [
      "Done.\n"
     ]
    },
    {
     "data": {
      "text/plain": [
       "<Container object of 20 artists>"
      ]
     },
     "execution_count": 23,
     "metadata": {},
     "output_type": "execute_result"
    },
    {
     "data": {
      "image/png": "[encoded data removed]",
      "text/plain": [
       "<matplotlib.figure.Figure at 0x69876d0>"
      ]
     },
     "metadata": {},
     "output_type": "display_data"
    }
   ],
   "source": [
    "result2=%sql select tabschema,tabname,count(colname) as count from syscat.columns group by tabschema,tabname order by 3 desc limit 20\n",
    "result2.bar()"
   ]
  },
  {
   "cell_type": "code",
   "execution_count": 24,
   "metadata": {
    "collapsed": false,
    "slideshow": {
     "slide_type": "slide"
    }
   },
   "outputs": [
    {
     "name": "stdout",
     "output_type": "stream",
     "text": [
      "Done.\n"
     ]
    },
    {
     "data": {
      "text/html": [
       "<a href=\"./files/taboutput.csv\">CSV results</a>"
      ],
      "text/plain": [
       "CSV results at /home/hloeser/Documents/Presentations/2016/taboutput.csv"
      ]
     },
     "execution_count": 24,
     "metadata": {},
     "output_type": "execute_result"
    }
   ],
   "source": [
    "# Dump output to a CSV file\n",
    "res3=%sql select trim(tabschema) || '.' || tabname as name,count(colname) as count from syscat.columns group by tabschema,tabname limit 40\n",
    "res3.csv(\"taboutput.csv\")"
   ]
  },
  {
   "cell_type": "markdown",
   "metadata": {
    "slideshow": {
     "slide_type": "slide"
    }
   },
   "source": [
    "# ibmdbpy"
   ]
  },
  {
   "cell_type": "code",
   "execution_count": 25,
   "metadata": {
    "collapsed": false,
    "slideshow": {
     "slide_type": "slide"
    }
   },
   "outputs": [],
   "source": [
    "import requests, StringIO, pandas as pd, json, re\n",
    "from ibmdbpy import IdaDataBase, IdaDataFrame"
   ]
  },
  {
   "cell_type": "code",
   "execution_count": 26,
   "metadata": {
    "collapsed": false,
    "slideshow": {
     "slide_type": "fragment"
    }
   },
   "outputs": [],
   "source": [
    "jdbc='jdbc:db2://localhost:50000/HLTEST:user=hloeser;password='+LocalDB2password\n",
    "idadb=IdaDataBase(dsn=jdbc)"
   ]
  },
  {
   "cell_type": "code",
   "execution_count": 27,
   "metadata": {
    "collapsed": true,
    "slideshow": {
     "slide_type": "fragment"
    }
   },
   "outputs": [],
   "source": [
    "testquery1=\"select tabschema,tabname,count(colname) as count from syscat.columns group by tabschema,tabname order by 3 desc limit 20\"\n",
    "test1_df=idadb.ida_query(testquery1)"
   ]
  },
  {
   "cell_type": "code",
   "execution_count": 28,
   "metadata": {
    "collapsed": false,
    "slideshow": {
     "slide_type": "fragment"
    }
   },
   "outputs": [
    {
     "data": {
      "text/plain": [
       "Index([u'TABSCHEMA', u'TABNAME', u'COUNT'], dtype='object')"
      ]
     },
     "execution_count": 28,
     "metadata": {},
     "output_type": "execute_result"
    }
   ],
   "source": [
    "test1_df.columns"
   ]
  },
  {
   "cell_type": "code",
   "execution_count": 29,
   "metadata": {
    "collapsed": false,
    "slideshow": {
     "slide_type": "slide"
    }
   },
   "outputs": [
    {
     "name": "stdout",
     "output_type": "stream",
     "text": [
      "Tables with most columns:\n"
     ]
    },
    {
     "data": {
      "image/png": "[encoded data removed]",
      "text/plain": [
       "<matplotlib.figure.Figure at 0x8427090>"
      ]
     },
     "metadata": {},
     "output_type": "display_data"
    }
   ],
   "source": [
    "print \"Tables with most columns:\"\n",
    "ax = test1_df.plot(kind='bar', figsize=(8,5), x='TABNAME', y='COUNT')\n",
    "ax.set_ylabel(\"Column Count\")\n",
    "ax.set_xlabel(\"Table/View\");"
   ]
  },
  {
   "cell_type": "markdown",
   "metadata": {
    "slideshow": {
     "slide_type": "slide"
    }
   },
   "source": [
    "# ibm_db"
   ]
  },
  {
   "cell_type": "code",
   "execution_count": 30,
   "metadata": {
    "collapsed": true,
    "slideshow": {
     "slide_type": "slide"
    }
   },
   "outputs": [],
   "source": [
    "import ibm_db\n",
    "dsn = (\n",
    "    \"DRIVER={{IBM DB2 ODBC DRIVER}};\"\n",
    "    \"DATABASE={0};\"\n",
    "    \"HOSTNAME={1};\"\n",
    "    \"PORT={2};\"\n",
    "    \"PROTOCOL=TCPIP;\"\n",
    "    \"UID={3};\"\n",
    "    \"PWD={4};\").format('HLTEST', 'localhost', 50000, 'hloeser', LocalDB2password)\n",
    "\n",
    "conn = ibm_db.connect(dsn, \"\", \"\")"
   ]
  },
  {
   "cell_type": "code",
   "execution_count": 31,
   "metadata": {
    "collapsed": false,
    "slideshow": {
     "slide_type": "fragment"
    }
   },
   "outputs": [
    {
     "data": {
      "text/plain": [
       "{0: u'SYSIBMADM',\n",
       " 1: u'SNAPDB',\n",
       " 2: 159,\n",
       " 'COUNT': 159,\n",
       " 'TABNAME': u'SNAPDB',\n",
       " 'TABSCHEMA': u'SYSIBMADM'}"
      ]
     },
     "execution_count": 31,
     "metadata": {},
     "output_type": "execute_result"
    }
   ],
   "source": [
    "# test query\n",
    "query = \"select tabschema,tabname,count(colname) as count from syscat.columns group by tabschema,tabname order by 3 desc limit 20;\"\n",
    "# run direct SQL\n",
    "stmt = ibm_db.exec_immediate(conn, query)\n",
    "ibm_db.fetch_both(stmt)"
   ]
  },
  {
   "cell_type": "code",
   "execution_count": 33,
   "metadata": {
    "collapsed": false,
    "slideshow": {
     "slide_type": "slide"
    }
   },
   "outputs": [
    {
     "data": {
      "text/html": [
       "<div>\n",
       "<table border=\"1\" class=\"dataframe\">\n",
       "  <thead>\n",
       "    <tr style=\"text-align: right;\">\n",
       "      <th></th>\n",
       "      <th>STRINGID</th>\n",
       "      <th>STRING</th>\n",
       "      <th>STRING_UTF8</th>\n",
       "    </tr>\n",
       "  </thead>\n",
       "  <tbody>\n",
       "    <tr>\n",
       "      <th>0</th>\n",
       "      <td>10</td>\n",
       "      <td></td>\n",
       "      <td></td>\n",
       "    </tr>\n",
       "    <tr>\n",
       "      <th>1</th>\n",
       "      <td>11</td>\n",
       "      <td>schema</td>\n",
       "      <td>schema</td>\n",
       "    </tr>\n",
       "    <tr>\n",
       "      <th>2</th>\n",
       "      <td>12</td>\n",
       "      <td>targetNamespace</td>\n",
       "      <td>targetNamespace</td>\n",
       "    </tr>\n",
       "    <tr>\n",
       "      <th>3</th>\n",
       "      <td>13</td>\n",
       "      <td>import</td>\n",
       "      <td>import</td>\n",
       "    </tr>\n",
       "    <tr>\n",
       "      <th>4</th>\n",
       "      <td>14</td>\n",
       "      <td>include</td>\n",
       "      <td>include</td>\n",
       "    </tr>\n",
       "    <tr>\n",
       "      <th>5</th>\n",
       "      <td>15</td>\n",
       "      <td>redefine</td>\n",
       "      <td>redefine</td>\n",
       "    </tr>\n",
       "    <tr>\n",
       "      <th>6</th>\n",
       "      <td>16</td>\n",
       "      <td>namespace</td>\n",
       "      <td>namespace</td>\n",
       "    </tr>\n",
       "    <tr>\n",
       "      <th>7</th>\n",
       "      <td>17</td>\n",
       "      <td>schemaLocation</td>\n",
       "      <td>schemaLocation</td>\n",
       "    </tr>\n",
       "    <tr>\n",
       "      <th>8</th>\n",
       "      <td>18</td>\n",
       "      <td>annotation</td>\n",
       "      <td>annotation</td>\n",
       "    </tr>\n",
       "    <tr>\n",
       "      <th>9</th>\n",
       "      <td>19</td>\n",
       "      <td>cdata()</td>\n",
       "      <td>cdata()</td>\n",
       "    </tr>\n",
       "    <tr>\n",
       "      <th>10</th>\n",
       "      <td>20</td>\n",
       "      <td>text()</td>\n",
       "      <td>text()</td>\n",
       "    </tr>\n",
       "    <tr>\n",
       "      <th>11</th>\n",
       "      <td>21</td>\n",
       "      <td>root()</td>\n",
       "      <td>root()</td>\n",
       "    </tr>\n",
       "    <tr>\n",
       "      <th>12</th>\n",
       "      <td>22</td>\n",
       "      <td>comment()</td>\n",
       "      <td>comment()</td>\n",
       "    </tr>\n",
       "    <tr>\n",
       "      <th>13</th>\n",
       "      <td>23</td>\n",
       "      <td>pi()</td>\n",
       "      <td>pi()</td>\n",
       "    </tr>\n",
       "    <tr>\n",
       "      <th>14</th>\n",
       "      <td>24</td>\n",
       "      <td>xsi</td>\n",
       "      <td>xsi</td>\n",
       "    </tr>\n",
       "    <tr>\n",
       "      <th>15</th>\n",
       "      <td>25</td>\n",
       "      <td>xdt</td>\n",
       "      <td>xdt</td>\n",
       "    </tr>\n",
       "    <tr>\n",
       "      <th>16</th>\n",
       "      <td>26</td>\n",
       "      <td>xmlns</td>\n",
       "      <td>xmlns</td>\n",
       "    </tr>\n",
       "    <tr>\n",
       "      <th>17</th>\n",
       "      <td>27</td>\n",
       "      <td>nil</td>\n",
       "      <td>nil</td>\n",
       "    </tr>\n",
       "    <tr>\n",
       "      <th>18</th>\n",
       "      <td>28</td>\n",
       "      <td>version</td>\n",
       "      <td>version</td>\n",
       "    </tr>\n",
       "    <tr>\n",
       "      <th>19</th>\n",
       "      <td>29</td>\n",
       "      <td>encoding</td>\n",
       "      <td>encoding</td>\n",
       "    </tr>\n",
       "    <tr>\n",
       "      <th>20</th>\n",
       "      <td>30</td>\n",
       "      <td>standalone</td>\n",
       "      <td>standalone</td>\n",
       "    </tr>\n",
       "    <tr>\n",
       "      <th>21</th>\n",
       "      <td>31</td>\n",
       "      <td>1.0</td>\n",
       "      <td>1.0</td>\n",
       "    </tr>\n",
       "    <tr>\n",
       "      <th>22</th>\n",
       "      <td>32</td>\n",
       "      <td>1.1</td>\n",
       "      <td>1.1</td>\n",
       "    </tr>\n",
       "    <tr>\n",
       "      <th>23</th>\n",
       "      <td>33</td>\n",
       "      <td>http://www.w3.org/2001/XMLSchema</td>\n",
       "      <td>http://www.w3.org/2001/XMLSchema</td>\n",
       "    </tr>\n",
       "    <tr>\n",
       "      <th>24</th>\n",
       "      <td>34</td>\n",
       "      <td>http://www.w3.org/2001/XMLSchema-instance</td>\n",
       "      <td>http://www.w3.org/2001/XMLSchema-instance</td>\n",
       "    </tr>\n",
       "    <tr>\n",
       "      <th>25</th>\n",
       "      <td>35</td>\n",
       "      <td>http://www.ibm.com/xmlns/prod/db2/XSR/SchemaInfo</td>\n",
       "      <td>http://www.ibm.com/xmlns/prod/db2/XSR/SchemaInfo</td>\n",
       "    </tr>\n",
       "    <tr>\n",
       "      <th>26</th>\n",
       "      <td>36</td>\n",
       "      <td>http://www.w3.org/XML/1998/namespace</td>\n",
       "      <td>http://www.w3.org/XML/1998/namespace</td>\n",
       "    </tr>\n",
       "    <tr>\n",
       "      <th>27</th>\n",
       "      <td>37</td>\n",
       "      <td>http://apache.org/xml/UknownNS</td>\n",
       "      <td>http://apache.org/xml/UknownNS</td>\n",
       "    </tr>\n",
       "    <tr>\n",
       "      <th>28</th>\n",
       "      <td>38</td>\n",
       "      <td>http://www.w3.org/2000/xmlns/</td>\n",
       "      <td>http://www.w3.org/2000/xmlns/</td>\n",
       "    </tr>\n",
       "    <tr>\n",
       "      <th>29</th>\n",
       "      <td>39</td>\n",
       "      <td>space</td>\n",
       "      <td>space</td>\n",
       "    </tr>\n",
       "    <tr>\n",
       "      <th>30</th>\n",
       "      <td>40</td>\n",
       "      <td>xml</td>\n",
       "      <td>xml</td>\n",
       "    </tr>\n",
       "    <tr>\n",
       "      <th>31</th>\n",
       "      <td>41</td>\n",
       "      <td>preserve</td>\n",
       "      <td>preserve</td>\n",
       "    </tr>\n",
       "    <tr>\n",
       "      <th>32</th>\n",
       "      <td>42</td>\n",
       "      <td>default</td>\n",
       "      <td>default</td>\n",
       "    </tr>\n",
       "    <tr>\n",
       "      <th>33</th>\n",
       "      <td>43</td>\n",
       "      <td>upper-case()</td>\n",
       "      <td>upper-case()</td>\n",
       "    </tr>\n",
       "    <tr>\n",
       "      <th>34</th>\n",
       "      <td>44</td>\n",
       "      <td>exists()</td>\n",
       "      <td>exists()</td>\n",
       "    </tr>\n",
       "    <tr>\n",
       "      <th>35</th>\n",
       "      <td>100</td>\n",
       "      <td>test</td>\n",
       "      <td>test</td>\n",
       "    </tr>\n",
       "    <tr>\n",
       "      <th>36</th>\n",
       "      <td>101</td>\n",
       "      <td>type</td>\n",
       "      <td>type</td>\n",
       "    </tr>\n",
       "    <tr>\n",
       "      <th>37</th>\n",
       "      <td>102</td>\n",
       "      <td>+root+</td>\n",
       "      <td>+root+</td>\n",
       "    </tr>\n",
       "    <tr>\n",
       "      <th>38</th>\n",
       "      <td>103</td>\n",
       "      <td>*\u0000\u0000\u0000%-57</td>\n",
       "      <td>*\u0000\u0000\u0000%-57</td>\n",
       "    </tr>\n",
       "    <tr>\n",
       "      <th>39</th>\n",
       "      <td>104</td>\n",
       "      <td>*</td>\n",
       "      <td>*</td>\n",
       "    </tr>\n",
       "  </tbody>\n",
       "</table>\n",
       "</div>"
      ],
      "text/plain": [
       "    STRINGID                                            STRING  \\\n",
       "0         10                                                     \n",
       "1         11                                            schema   \n",
       "2         12                                   targetNamespace   \n",
       "3         13                                            import   \n",
       "4         14                                           include   \n",
       "5         15                                          redefine   \n",
       "6         16                                         namespace   \n",
       "7         17                                    schemaLocation   \n",
       "8         18                                        annotation   \n",
       "9         19                                           cdata()   \n",
       "10        20                                            text()   \n",
       "11        21                                            root()   \n",
       "12        22                                         comment()   \n",
       "13        23                                              pi()   \n",
       "14        24                                               xsi   \n",
       "15        25                                               xdt   \n",
       "16        26                                             xmlns   \n",
       "17        27                                               nil   \n",
       "18        28                                           version   \n",
       "19        29                                          encoding   \n",
       "20        30                                        standalone   \n",
       "21        31                                               1.0   \n",
       "22        32                                               1.1   \n",
       "23        33                  http://www.w3.org/2001/XMLSchema   \n",
       "24        34         http://www.w3.org/2001/XMLSchema-instance   \n",
       "25        35  http://www.ibm.com/xmlns/prod/db2/XSR/SchemaInfo   \n",
       "26        36              http://www.w3.org/XML/1998/namespace   \n",
       "27        37                    http://apache.org/xml/UknownNS   \n",
       "28        38                     http://www.w3.org/2000/xmlns/   \n",
       "29        39                                             space   \n",
       "30        40                                               xml   \n",
       "31        41                                          preserve   \n",
       "32        42                                           default   \n",
       "33        43                                      upper-case()   \n",
       "34        44                                          exists()   \n",
       "35       100                                              test   \n",
       "36       101                                              type   \n",
       "37       102                                            +root+   \n",
       "38       103                                          *\u0000\u0000\u0000%-57   \n",
       "39       104                                                 *   \n",
       "\n",
       "                                         STRING_UTF8  \n",
       "0                                                     \n",
       "1                                             schema  \n",
       "2                                    targetNamespace  \n",
       "3                                             import  \n",
       "4                                            include  \n",
       "5                                           redefine  \n",
       "6                                          namespace  \n",
       "7                                     schemaLocation  \n",
       "8                                         annotation  \n",
       "9                                            cdata()  \n",
       "10                                            text()  \n",
       "11                                            root()  \n",
       "12                                         comment()  \n",
       "13                                              pi()  \n",
       "14                                               xsi  \n",
       "15                                               xdt  \n",
       "16                                             xmlns  \n",
       "17                                               nil  \n",
       "18                                           version  \n",
       "19                                          encoding  \n",
       "20                                        standalone  \n",
       "21                                               1.0  \n",
       "22                                               1.1  \n",
       "23                  http://www.w3.org/2001/XMLSchema  \n",
       "24         http://www.w3.org/2001/XMLSchema-instance  \n",
       "25  http://www.ibm.com/xmlns/prod/db2/XSR/SchemaInfo  \n",
       "26              http://www.w3.org/XML/1998/namespace  \n",
       "27                    http://apache.org/xml/UknownNS  \n",
       "28                     http://www.w3.org/2000/xmlns/  \n",
       "29                                             space  \n",
       "30                                               xml  \n",
       "31                                          preserve  \n",
       "32                                           default  \n",
       "33                                      upper-case()  \n",
       "34                                          exists()  \n",
       "35                                              test  \n",
       "36                                              type  \n",
       "37                                            +root+  \n",
       "38                                          *\u0000\u0000\u0000%-57  \n",
       "39                                                 *  "
      ]
     },
     "execution_count": 33,
     "metadata": {},
     "output_type": "execute_result"
    }
   ],
   "source": [
    "import pandas\n",
    "import ibm_db_dbi\n",
    "pconn = ibm_db_dbi.Connection(conn)\n",
    "df = pandas.read_sql('SELECT * FROM SYSCAT.XMLSTRINGS', pconn)\n",
    "df"
   ]
  },
  {
   "cell_type": "code",
   "execution_count": 28,
   "metadata": {
    "collapsed": false
   },
   "outputs": [
    {
     "name": "stdout",
     "output_type": "stream",
     "text": [
      "Done.\n"
     ]
    },
    {
     "data": {
      "text/html": [
       "<table>\n",
       "    <tr>\n",
       "        <th>tabschema</th>\n",
       "        <th>tabname</th>\n",
       "        <th>colname</th>\n",
       "        <th>seqno</th>\n",
       "        <th>colvalue</th>\n",
       "        <th>TYPE</th>\n",
       "        <th>valcount</th>\n",
       "    </tr>\n",
       "    <tr>\n",
       "        <td>SYSIBM  </td>\n",
       "        <td>SYSXMLSTRINGS</td>\n",
       "        <td>STRINGID</td>\n",
       "        <td>20</td>\n",
       "        <td>44</td>\n",
       "        <td>Q</td>\n",
       "        <td>35</td>\n",
       "    </tr>\n",
       "    <tr>\n",
       "        <td>SYSIBM  </td>\n",
       "        <td>SYSINDEXES</td>\n",
       "        <td>INDCARD</td>\n",
       "        <td>20</td>\n",
       "        <td>933</td>\n",
       "        <td>Q</td>\n",
       "        <td>383</td>\n",
       "    </tr>\n",
       "    <tr>\n",
       "        <td>SYSIBM  </td>\n",
       "        <td>SYSINDEXES</td>\n",
       "        <td>NUMRIDS</td>\n",
       "        <td>20</td>\n",
       "        <td>933</td>\n",
       "        <td>Q</td>\n",
       "        <td>383</td>\n",
       "    </tr>\n",
       "    <tr>\n",
       "        <td>SYSIBM  </td>\n",
       "        <td>SYSINDEXES</td>\n",
       "        <td>INDEX_OBJECTID</td>\n",
       "        <td>20</td>\n",
       "        <td>1305</td>\n",
       "        <td>Q</td>\n",
       "        <td>383</td>\n",
       "    </tr>\n",
       "    <tr>\n",
       "        <td>SYSIBM  </td>\n",
       "        <td>SYSINDEXES</td>\n",
       "        <td>STATS_TIME</td>\n",
       "        <td>20</td>\n",
       "        <td>'2016-10-18-19.59.23.034285'</td>\n",
       "        <td>Q</td>\n",
       "        <td>146</td>\n",
       "    </tr>\n",
       "    <tr>\n",
       "        <td>SYSIBM  </td>\n",
       "        <td>SYSINDEXES</td>\n",
       "        <td>COLNAMES</td>\n",
       "        <td>20</td>\n",
       "        <td>'-TYPEID'</td>\n",
       "        <td>Q</td>\n",
       "        <td>383</td>\n",
       "    </tr>\n",
       "    <tr>\n",
       "        <td>SYSIBM  </td>\n",
       "        <td>SYSINDEXES</td>\n",
       "        <td>TBNAME</td>\n",
       "        <td>20</td>\n",
       "        <td>'SYSXSROBJECTS'</td>\n",
       "        <td>Q</td>\n",
       "        <td>383</td>\n",
       "    </tr>\n",
       "    <tr>\n",
       "        <td>SYSIBM  </td>\n",
       "        <td>SYSINDEXES</td>\n",
       "        <td>NAME</td>\n",
       "        <td>20</td>\n",
       "        <td>'POLICY_UNQ'</td>\n",
       "        <td>Q</td>\n",
       "        <td>383</td>\n",
       "    </tr>\n",
       "    <tr>\n",
       "        <td>SYSIBM  </td>\n",
       "        <td>SYSINDEXCOLUSE</td>\n",
       "        <td>COLNAME</td>\n",
       "        <td>20</td>\n",
       "        <td>'XSROBJECTSCHEMA'</td>\n",
       "        <td>Q</td>\n",
       "        <td>933</td>\n",
       "    </tr>\n",
       "    <tr>\n",
       "        <td>SYSIBM  </td>\n",
       "        <td>SYSINDEXCOLUSE</td>\n",
       "        <td>INDNAME</td>\n",
       "        <td>20</td>\n",
       "        <td>'POLICY_UNQ'</td>\n",
       "        <td>Q</td>\n",
       "        <td>933</td>\n",
       "    </tr>\n",
       "    <tr>\n",
       "        <td>SYSIBM  </td>\n",
       "        <td>SYSTABAUTH</td>\n",
       "        <td>TTNAME</td>\n",
       "        <td>20</td>\n",
       "        <td>'XSROBJECTS'</td>\n",
       "        <td>Q</td>\n",
       "        <td>417</td>\n",
       "    </tr>\n",
       "    <tr>\n",
       "        <td>SYSIBM  </td>\n",
       "        <td>SYSVARIABLES</td>\n",
       "        <td>LAST_REGEN_TIME</td>\n",
       "        <td>20</td>\n",
       "        <td>'2016-10-18-18.11.46.349055'</td>\n",
       "        <td>Q</td>\n",
       "        <td>125</td>\n",
       "    </tr>\n",
       "    <tr>\n",
       "        <td>SYSIBM  </td>\n",
       "        <td>SYSVARIABLES</td>\n",
       "        <td>CREATE_TIME</td>\n",
       "        <td>20</td>\n",
       "        <td>'2016-10-18-18.11.46.349055'</td>\n",
       "        <td>Q</td>\n",
       "        <td>125</td>\n",
       "    </tr>\n",
       "    <tr>\n",
       "        <td>SYSIBM  </td>\n",
       "        <td>SYSVARIABLES</td>\n",
       "        <td>VARID</td>\n",
       "        <td>20</td>\n",
       "        <td>125</td>\n",
       "        <td>Q</td>\n",
       "        <td>125</td>\n",
       "    </tr>\n",
       "    <tr>\n",
       "        <td>SYSIBM  </td>\n",
       "        <td>SYSVARIABLES</td>\n",
       "        <td>VARNAME</td>\n",
       "        <td>20</td>\n",
       "        <td>'WRITE_ERROR'</td>\n",
       "        <td>Q</td>\n",
       "        <td>125</td>\n",
       "    </tr>\n",
       "    <tr>\n",
       "        <td>SYSIBM  </td>\n",
       "        <td>SYSCODEPROPERTIES</td>\n",
       "        <td>LIB_ID</td>\n",
       "        <td>20</td>\n",
       "        <td>2135189408</td>\n",
       "        <td>Q</td>\n",
       "        <td>237</td>\n",
       "    </tr>\n",
       "    <tr>\n",
       "        <td>SYSIBM  </td>\n",
       "        <td>SYSCODEPROPERTIES</td>\n",
       "        <td>OBJECT_ID</td>\n",
       "        <td>20</td>\n",
       "        <td>66625</td>\n",
       "        <td>Q</td>\n",
       "        <td>237</td>\n",
       "    </tr>\n",
       "    <tr>\n",
       "        <td>SYSIBM  </td>\n",
       "        <td>SYSUSERAUTH</td>\n",
       "        <td>TABNAME</td>\n",
       "        <td>20</td>\n",
       "        <td>'XSROBJECTS'</td>\n",
       "        <td>Q</td>\n",
       "        <td>417</td>\n",
       "    </tr>\n",
       "    <tr>\n",
       "        <td>SYSIBM  </td>\n",
       "        <td>SYSPLANAUTH</td>\n",
       "        <td>NAME</td>\n",
       "        <td>20</td>\n",
       "        <td>'TUPLEWRT'</td>\n",
       "        <td>Q</td>\n",
       "        <td>421</td>\n",
       "    </tr>\n",
       "    <tr>\n",
       "        <td>SYSIBM  </td>\n",
       "        <td>SYSDATAPARTITIONS</td>\n",
       "        <td>STATS_TIME</td>\n",
       "        <td>20</td>\n",
       "        <td>'2016-10-18-19.59.20.216473'</td>\n",
       "        <td>Q</td>\n",
       "        <td>48</td>\n",
       "    </tr>\n",
       "    <tr>\n",
       "        <td>SYSIBM  </td>\n",
       "        <td>SYSDATAPARTITIONS</td>\n",
       "        <td>AVGROWSIZE</td>\n",
       "        <td>20</td>\n",
       "        <td>271</td>\n",
       "        <td>Q</td>\n",
       "        <td>150</td>\n",
       "    </tr>\n",
       "    <tr>\n",
       "        <td>SYSIBM  </td>\n",
       "        <td>SYSDATAPARTITIONS</td>\n",
       "        <td>PARTITIONOBJECTID</td>\n",
       "        <td>20</td>\n",
       "        <td>1305</td>\n",
       "        <td>Q</td>\n",
       "        <td>150</td>\n",
       "    </tr>\n",
       "    <tr>\n",
       "        <td>SYSIBM  </td>\n",
       "        <td>SYSDATAPARTITIONS</td>\n",
       "        <td>TABNAME</td>\n",
       "        <td>20</td>\n",
       "        <td>'SYSXSROBJECTS'</td>\n",
       "        <td>Q</td>\n",
       "        <td>150</td>\n",
       "    </tr>\n",
       "    <tr>\n",
       "        <td>SYSTOOLS</td>\n",
       "        <td>HMON_ATM_INFO</td>\n",
       "        <td>STATS_TIME</td>\n",
       "        <td>20</td>\n",
       "        <td>'2016-10-18-19.59.20.064882'</td>\n",
       "        <td>Q</td>\n",
       "        <td>47</td>\n",
       "    </tr>\n",
       "    <tr>\n",
       "        <td>SYSTOOLS</td>\n",
       "        <td>HMON_ATM_INFO</td>\n",
       "        <td>TO_WAIT</td>\n",
       "        <td>20</td>\n",
       "        <td>335</td>\n",
       "        <td>Q</td>\n",
       "        <td>150</td>\n",
       "    </tr>\n",
       "    <tr>\n",
       "        <td>SYSTOOLS</td>\n",
       "        <td>HMON_ATM_INFO</td>\n",
       "        <td>LAST_WAIT</td>\n",
       "        <td>20</td>\n",
       "        <td>335</td>\n",
       "        <td>Q</td>\n",
       "        <td>150</td>\n",
       "    </tr>\n",
       "    <tr>\n",
       "        <td>SYSTOOLS</td>\n",
       "        <td>HMON_ATM_INFO</td>\n",
       "        <td>NAME</td>\n",
       "        <td>20</td>\n",
       "        <td>'SYSXSROBJECTS'</td>\n",
       "        <td>Q</td>\n",
       "        <td>150</td>\n",
       "    </tr>\n",
       "    <tr>\n",
       "        <td>SYSIBM  </td>\n",
       "        <td>SYSHISTOGRAMTEMPLATEBINS</td>\n",
       "        <td>BINUPPERVALUE</td>\n",
       "        <td>20</td>\n",
       "        <td>21600000</td>\n",
       "        <td>Q</td>\n",
       "        <td>40</td>\n",
       "    </tr>\n",
       "    <tr>\n",
       "        <td>SYSIBM  </td>\n",
       "        <td>SYSHISTOGRAMTEMPLATEBINS</td>\n",
       "        <td>BINID</td>\n",
       "        <td>20</td>\n",
       "        <td>40</td>\n",
       "        <td>Q</td>\n",
       "        <td>40</td>\n",
       "    </tr>\n",
       "    <tr>\n",
       "        <td>SYSIBM  </td>\n",
       "        <td>SYSXMLSTRINGS</td>\n",
       "        <td>STRING</td>\n",
       "        <td>20</td>\n",
       "        <td>'xsiZ'</td>\n",
       "        <td>Q</td>\n",
       "        <td>35</td>\n",
       "    </tr>\n",
       "</table>"
      ],
      "text/plain": [
       "[(u'SYSIBM  ', u'SYSXMLSTRINGS', u'STRINGID', 20, u'44', u'Q', 35L),\n",
       " (u'SYSIBM  ', u'SYSINDEXES', u'INDCARD', 20, u'933', u'Q', 383L),\n",
       " (u'SYSIBM  ', u'SYSINDEXES', u'NUMRIDS', 20, u'933', u'Q', 383L),\n",
       " (u'SYSIBM  ', u'SYSINDEXES', u'INDEX_OBJECTID', 20, u'1305', u'Q', 383L),\n",
       " (u'SYSIBM  ', u'SYSINDEXES', u'STATS_TIME', 20, u\"'2016-10-18-19.59.23.034285'\", u'Q', 146L),\n",
       " (u'SYSIBM  ', u'SYSINDEXES', u'COLNAMES', 20, u\"'-TYPEID'\", u'Q', 383L),\n",
       " (u'SYSIBM  ', u'SYSINDEXES', u'TBNAME', 20, u\"'SYSXSROBJECTS'\", u'Q', 383L),\n",
       " (u'SYSIBM  ', u'SYSINDEXES', u'NAME', 20, u\"'POLICY_UNQ'\", u'Q', 383L),\n",
       " (u'SYSIBM  ', u'SYSINDEXCOLUSE', u'COLNAME', 20, u\"'XSROBJECTSCHEMA'\", u'Q', 933L),\n",
       " (u'SYSIBM  ', u'SYSINDEXCOLUSE', u'INDNAME', 20, u\"'POLICY_UNQ'\", u'Q', 933L),\n",
       " (u'SYSIBM  ', u'SYSTABAUTH', u'TTNAME', 20, u\"'XSROBJECTS'\", u'Q', 417L),\n",
       " (u'SYSIBM  ', u'SYSVARIABLES', u'LAST_REGEN_TIME', 20, u\"'2016-10-18-18.11.46.349055'\", u'Q', 125L),\n",
       " (u'SYSIBM  ', u'SYSVARIABLES', u'CREATE_TIME', 20, u\"'2016-10-18-18.11.46.349055'\", u'Q', 125L),\n",
       " (u'SYSIBM  ', u'SYSVARIABLES', u'VARID', 20, u'125', u'Q', 125L),\n",
       " (u'SYSIBM  ', u'SYSVARIABLES', u'VARNAME', 20, u\"'WRITE_ERROR'\", u'Q', 125L),\n",
       " (u'SYSIBM  ', u'SYSCODEPROPERTIES', u'LIB_ID', 20, u'2135189408', u'Q', 237L),\n",
       " (u'SYSIBM  ', u'SYSCODEPROPERTIES', u'OBJECT_ID', 20, u'66625', u'Q', 237L),\n",
       " (u'SYSIBM  ', u'SYSUSERAUTH', u'TABNAME', 20, u\"'XSROBJECTS'\", u'Q', 417L),\n",
       " (u'SYSIBM  ', u'SYSPLANAUTH', u'NAME', 20, u\"'TUPLEWRT'\", u'Q', 421L),\n",
       " (u'SYSIBM  ', u'SYSDATAPARTITIONS', u'STATS_TIME', 20, u\"'2016-10-18-19.59.20.216473'\", u'Q', 48L),\n",
       " (u'SYSIBM  ', u'SYSDATAPARTITIONS', u'AVGROWSIZE', 20, u'271', u'Q', 150L),\n",
       " (u'SYSIBM  ', u'SYSDATAPARTITIONS', u'PARTITIONOBJECTID', 20, u'1305', u'Q', 150L),\n",
       " (u'SYSIBM  ', u'SYSDATAPARTITIONS', u'TABNAME', 20, u\"'SYSXSROBJECTS'\", u'Q', 150L),\n",
       " (u'SYSTOOLS', u'HMON_ATM_INFO', u'STATS_TIME', 20, u\"'2016-10-18-19.59.20.064882'\", u'Q', 47L),\n",
       " (u'SYSTOOLS', u'HMON_ATM_INFO', u'TO_WAIT', 20, u'335', u'Q', 150L),\n",
       " (u'SYSTOOLS', u'HMON_ATM_INFO', u'LAST_WAIT', 20, u'335', u'Q', 150L),\n",
       " (u'SYSTOOLS', u'HMON_ATM_INFO', u'NAME', 20, u\"'SYSXSROBJECTS'\", u'Q', 150L),\n",
       " (u'SYSIBM  ', u'SYSHISTOGRAMTEMPLATEBINS', u'BINUPPERVALUE', 20, u'21600000', u'Q', 40L),\n",
       " (u'SYSIBM  ', u'SYSHISTOGRAMTEMPLATEBINS', u'BINID', 20, u'40', u'Q', 40L),\n",
       " (u'SYSIBM  ', u'SYSXMLSTRINGS', u'STRING', 20, u\"'xsiZ'\", u'Q', 35L)]"
      ]
     },
     "execution_count": 28,
     "metadata": {},
     "output_type": "execute_result"
    }
   ],
   "source": [
    "%sql select tabschema,tabname,colname,seqno,colvalue,type,valcount from syscat.coldist where colvalue<>'None' order by seqno desc limit 30"
   ]
  },
  {
   "cell_type": "code",
   "execution_count": null,
   "metadata": {
    "collapsed": true
   },
   "outputs": [],
   "source": []
  },
  {
   "cell_type": "markdown",
   "metadata": {
    "slideshow": {
     "slide_type": "slide"
    }
   },
   "source": [
    "# Stuff I used\n",
    "***\n",
    "* DB2 and dashDB\n",
    "* Jupyter Notebook: http://jupyter.org/\n",
    "* SQL Magic / ipython-sql: https://github.com/catherinedevlin/ipython-sql\n",
    "* RISE - Reveal.js Jupyter/IPython Slideshow Extension: https://github.com/damianavila/RISE\n",
    "* ibmdbpy: http://pythonhosted.org/ibmdbpy/\n",
    "* ibmdby sample notebooks: https://github.com/ibmdbanalytics/ibmdbpy-notebooks\n",
    "* Python interface to DB2 - ibm_db: https://github.com/ibmdb/python-ibmdb\n",
    "* Bokeh Visualization Library: http://bokeh.pydata.org/en/latest/\n",
    "* ..."
   ]
  },
  {
   "cell_type": "markdown",
   "metadata": {
    "slideshow": {
     "slide_type": "slide"
    }
   },
   "source": [
    "# Summary\n",
    "***\n",
    "* Jupyter/IPython Notebooks as interactive \"playground\"\n",
    "* Notebooks for presentations und simple reports\n",
    "* Documented \"prototyping\" or classroom\n",
    "* Choice of DB2 interfaces, some demonstrated\n",
    "* ibmdbpy allows for \"push down\" into DB2/dashDB\n",
    "* Test locally or as part of Apache Spark service on Bluemix\n",
    "\n",
    "\n",
    "***\n",
    "## Session E08\n",
    "### Please leave feedback, Thank You!\n",
    "  "
   ]
  }
 ],
 "metadata": {
  "celltoolbar": "Slideshow",
  "kernelspec": {
   "display_name": "Python 2",
   "language": "python",
   "name": "python2"
  },
  "language_info": {
   "codemirror_mode": {
    "name": "ipython",
    "version": 2
   },
   "file_extension": ".py",
   "mimetype": "text/x-python",
   "name": "python",
   "nbconvert_exporter": "python",
   "pygments_lexer": "ipython2",
   "version": "2.7.5"
  }
 },
 "nbformat": 4,
 "nbformat_minor": 0
}
